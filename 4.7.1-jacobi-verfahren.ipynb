{
 "cells": [
  {
   "cell_type": "markdown",
   "source": [
    "# Jacobi Verfahren"
   ],
   "metadata": {
    "collapsed": false
   }
  },
  {
   "cell_type": "code",
   "execution_count": 87,
   "outputs": [],
   "source": [
    "import sympy as sp\n",
    "import IPython.display as dp\n",
    "\n",
    "from util.sympy.linalg import backwards_substitution, forwards_substitution, pivot\n",
    "\n",
    "\n",
    "def jacobi_iterate(a: sp.Matrix, b: sp.Matrix, x: sp.Matrix, precision: int = -1) -> sp.Matrix:\n",
    "    res = sp.zeros(x.rows, x.cols)\n",
    "\n",
    "    for i in range(a.rows):\n",
    "        s = 0\n",
    "        s_expr = ''\n",
    "\n",
    "        for j in range(a.cols):\n",
    "            if i != j:\n",
    "                s += a[i, j] * x[j]\n",
    "                s_expr += f' + ({sp.latex(a[i, j])} \\\\cdot {sp.latex(x[j])})'\n",
    "\n",
    "        res[i] = (1 / a[i, i]) * (b[i] - s)\n",
    "        if precision != -1:\n",
    "            res[i] = res[i].evalf(precision)\n",
    "\n",
    "        dp.display(dp.Math(\n",
    "            f'x_{{ {i} }} = \\\\frac{{ {sp.latex(b[i])} }}{{ {sp.latex(a[i, i])} }} - \\\\frac{{ {s_expr[3:]} }}{{ {sp.latex(a[i, i])} }} = {sp.latex(res[i])}'))\n",
    "\n",
    "    return res\n",
    "\n",
    "\n",
    "def jacobi(a: sp.Matrix, b: sp.Matrix, x0: sp.Matrix, n: int = 100, precision: int = -1) -> sp.Matrix:\n",
    "    x = x0\n",
    "    for i in range(n):\n",
    "        dp.display(dp.Latex(f'Iteration {i + 1}'))\n",
    "        x = jacobi_iterate(a, b, x, precision)\n",
    "    return x"
   ],
   "metadata": {
    "collapsed": false
   }
  },
  {
   "cell_type": "markdown",
   "source": [],
   "metadata": {
    "collapsed": false
   }
  },
  {
   "cell_type": "code",
   "execution_count": 88,
   "outputs": [
    {
     "data": {
      "text/plain": "<IPython.core.display.Latex object>",
      "text/latex": "Iteration 1"
     },
     "metadata": {},
     "output_type": "display_data"
    },
    {
     "data": {
      "text/plain": "<IPython.core.display.Math object>",
      "text/latex": "$\\displaystyle x_{ 0 } = \\frac{ 5 }{ 4 } - \\frac{ (-1 \\cdot 0) + (1 \\cdot 0) }{ 4 } = 1.25$"
     },
     "metadata": {},
     "output_type": "display_data"
    },
    {
     "data": {
      "text/plain": "<IPython.core.display.Math object>",
      "text/latex": "$\\displaystyle x_{ 1 } = \\frac{ 11 }{ 5 } - \\frac{ (-2 \\cdot 0) + (1 \\cdot 0) }{ 5 } = 2.2$"
     },
     "metadata": {},
     "output_type": "display_data"
    },
    {
     "data": {
      "text/plain": "<IPython.core.display.Math object>",
      "text/latex": "$\\displaystyle x_{ 2 } = \\frac{ 12 }{ 5 } - \\frac{ (1 \\cdot 0) + (-2 \\cdot 0) }{ 5 } = 2.4$"
     },
     "metadata": {},
     "output_type": "display_data"
    },
    {
     "data": {
      "text/plain": "<IPython.core.display.Latex object>",
      "text/latex": "Iteration 2"
     },
     "metadata": {},
     "output_type": "display_data"
    },
    {
     "data": {
      "text/plain": "<IPython.core.display.Math object>",
      "text/latex": "$\\displaystyle x_{ 0 } = \\frac{ 5 }{ 4 } - \\frac{ (-1 \\cdot 2.2) + (1 \\cdot 2.4) }{ 4 } = 1.2$"
     },
     "metadata": {},
     "output_type": "display_data"
    },
    {
     "data": {
      "text/plain": "<IPython.core.display.Math object>",
      "text/latex": "$\\displaystyle x_{ 1 } = \\frac{ 11 }{ 5 } - \\frac{ (-2 \\cdot 1.25) + (1 \\cdot 2.4) }{ 5 } = 2.22$"
     },
     "metadata": {},
     "output_type": "display_data"
    },
    {
     "data": {
      "text/plain": "<IPython.core.display.Math object>",
      "text/latex": "$\\displaystyle x_{ 2 } = \\frac{ 12 }{ 5 } - \\frac{ (1 \\cdot 1.25) + (-2 \\cdot 2.2) }{ 5 } = 3.03$"
     },
     "metadata": {},
     "output_type": "display_data"
    },
    {
     "data": {
      "text/plain": "<IPython.core.display.Latex object>",
      "text/latex": "Iteration 3"
     },
     "metadata": {},
     "output_type": "display_data"
    },
    {
     "data": {
      "text/plain": "<IPython.core.display.Math object>",
      "text/latex": "$\\displaystyle x_{ 0 } = \\frac{ 5 }{ 4 } - \\frac{ (-1 \\cdot 2.22) + (1 \\cdot 3.03) }{ 4 } = 1.0475$"
     },
     "metadata": {},
     "output_type": "display_data"
    },
    {
     "data": {
      "text/plain": "<IPython.core.display.Math object>",
      "text/latex": "$\\displaystyle x_{ 1 } = \\frac{ 11 }{ 5 } - \\frac{ (-2 \\cdot 1.2) + (1 \\cdot 3.03) }{ 5 } = 2.074$"
     },
     "metadata": {},
     "output_type": "display_data"
    },
    {
     "data": {
      "text/plain": "<IPython.core.display.Math object>",
      "text/latex": "$\\displaystyle x_{ 2 } = \\frac{ 12 }{ 5 } - \\frac{ (1 \\cdot 1.2) + (-2 \\cdot 2.22) }{ 5 } = 3.048$"
     },
     "metadata": {},
     "output_type": "display_data"
    },
    {
     "data": {
      "text/plain": "<IPython.core.display.Latex object>",
      "text/latex": "Iteration 4"
     },
     "metadata": {},
     "output_type": "display_data"
    },
    {
     "data": {
      "text/plain": "<IPython.core.display.Math object>",
      "text/latex": "$\\displaystyle x_{ 0 } = \\frac{ 5 }{ 4 } - \\frac{ (-1 \\cdot 2.074) + (1 \\cdot 3.048) }{ 4 } = 1.0065$"
     },
     "metadata": {},
     "output_type": "display_data"
    },
    {
     "data": {
      "text/plain": "<IPython.core.display.Math object>",
      "text/latex": "$\\displaystyle x_{ 1 } = \\frac{ 11 }{ 5 } - \\frac{ (-2 \\cdot 1.0475) + (1 \\cdot 3.048) }{ 5 } = 2.0094$"
     },
     "metadata": {},
     "output_type": "display_data"
    },
    {
     "data": {
      "text/plain": "<IPython.core.display.Math object>",
      "text/latex": "$\\displaystyle x_{ 2 } = \\frac{ 12 }{ 5 } - \\frac{ (1 \\cdot 1.0475) + (-2 \\cdot 2.074) }{ 5 } = 3.0201$"
     },
     "metadata": {},
     "output_type": "display_data"
    },
    {
     "data": {
      "text/plain": "<IPython.core.display.Latex object>",
      "text/latex": "Iteration 5"
     },
     "metadata": {},
     "output_type": "display_data"
    },
    {
     "data": {
      "text/plain": "<IPython.core.display.Math object>",
      "text/latex": "$\\displaystyle x_{ 0 } = \\frac{ 5 }{ 4 } - \\frac{ (-1 \\cdot 2.0094) + (1 \\cdot 3.0201) }{ 4 } = 0.997325$"
     },
     "metadata": {},
     "output_type": "display_data"
    },
    {
     "data": {
      "text/plain": "<IPython.core.display.Math object>",
      "text/latex": "$\\displaystyle x_{ 1 } = \\frac{ 11 }{ 5 } - \\frac{ (-2 \\cdot 1.0065) + (1 \\cdot 3.0201) }{ 5 } = 1.99858$"
     },
     "metadata": {},
     "output_type": "display_data"
    },
    {
     "data": {
      "text/plain": "<IPython.core.display.Math object>",
      "text/latex": "$\\displaystyle x_{ 2 } = \\frac{ 12 }{ 5 } - \\frac{ (1 \\cdot 1.0065) + (-2 \\cdot 2.0094) }{ 5 } = 3.00246$"
     },
     "metadata": {},
     "output_type": "display_data"
    },
    {
     "name": "stdout",
     "output_type": "stream",
     "text": [
      "Matrix([[0.997325062751770], [1.99857997894287], [3.00245952606201]])\n"
     ]
    }
   ],
   "source": [
    "a = sp.Matrix([\n",
    "    [4, -1, 1],\n",
    "    [-2, 5, 1],\n",
    "    [1, -2, 5],\n",
    "])\n",
    "\n",
    "b = sp.Matrix([5, 11, 12])\n",
    "x0 = sp.Matrix([0, 0, 0])\n",
    "\n",
    "x = jacobi(a, b, x0, 5, precision=6).evalf()\n",
    "print(x)"
   ],
   "metadata": {
    "collapsed": false
   }
  }
 ],
 "metadata": {
  "kernelspec": {
   "display_name": "Python 3",
   "language": "python",
   "name": "python3"
  },
  "language_info": {
   "codemirror_mode": {
    "name": "ipython",
    "version": 2
   },
   "file_extension": ".py",
   "mimetype": "text/x-python",
   "name": "python",
   "nbconvert_exporter": "python",
   "pygments_lexer": "ipython2",
   "version": "2.7.6"
  }
 },
 "nbformat": 4,
 "nbformat_minor": 0
}
