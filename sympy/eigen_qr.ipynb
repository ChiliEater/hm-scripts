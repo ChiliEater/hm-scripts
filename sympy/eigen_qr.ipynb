{
 "cells": [
  {
   "cell_type": "code",
   "execution_count": 3,
   "outputs": [
    {
     "data": {
      "text/plain": "<IPython.core.display.Math object>",
      "text/latex": "$\\displaystyle \\lambda_{ 1 } = 0.5 - 2.39791576165636 i$"
     },
     "metadata": {},
     "output_type": "display_data"
    },
    {
     "data": {
      "text/plain": "<IPython.core.display.Math object>",
      "text/latex": "$\\displaystyle \\lambda_{ 2 } = 0.5 + 2.39791576165636 i$"
     },
     "metadata": {},
     "output_type": "display_data"
    },
    {
     "data": {
      "text/plain": "<IPython.core.display.Math object>",
      "text/latex": "$\\displaystyle \\lambda_{ 3 } = 1.0$"
     },
     "metadata": {},
     "output_type": "display_data"
    }
   ],
   "source": [
    "import IPython.display as dp\n",
    "import sympy as sp\n",
    "\n",
    "from eigen_qr import qr_eigen\n",
    "\n",
    "a = sp.Matrix([\n",
    "    [1, -2, 0],\n",
    "    [2, 0, 1],\n",
    "    [0, -2, 1],\n",
    "])\n",
    "\n",
    "eigen_vals = qr_eigen(a, iterations=100, precision=8, output=False)\n",
    "\n",
    "for i in range(len(eigen_vals)):\n",
    "    dp.display(dp.Math(f'\\\\lambda_{{ {i + 1} }} = {sp.latex(eigen_vals[i])}'))"
   ],
   "metadata": {
    "collapsed": false
   }
  }
 ],
 "metadata": {
  "kernelspec": {
   "display_name": "Python 3",
   "language": "python",
   "name": "python3"
  },
  "language_info": {
   "codemirror_mode": {
    "name": "ipython",
    "version": 2
   },
   "file_extension": ".py",
   "mimetype": "text/x-python",
   "name": "python",
   "nbconvert_exporter": "python",
   "pygments_lexer": "ipython2",
   "version": "2.7.6"
  }
 },
 "nbformat": 4,
 "nbformat_minor": 0
}
