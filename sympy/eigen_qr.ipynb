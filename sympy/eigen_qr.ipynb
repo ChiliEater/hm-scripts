{
 "cells": [
  {
   "cell_type": "code",
   "execution_count": 1,
   "metadata": {
    "collapsed": false
   },
   "outputs": [
    {
     "data": {
      "text/latex": [
       "$\\displaystyle \\lambda_{ 1 } = 3.0, v = \\left[\\begin{matrix}0.029986921\\\\0.9995503\\\\0\\end{matrix}\\right]$"
      ],
      "text/plain": [
       "<IPython.core.display.Math object>"
      ]
     },
     "metadata": {},
     "output_type": "display_data"
    },
    {
     "data": {
      "text/latex": [
       "$\\displaystyle \\lambda_{ 2 } = 6, v = \\left[\\begin{matrix}-0.99955024\\\\0.029986908\\\\0\\end{matrix}\\right]$"
      ],
      "text/plain": [
       "<IPython.core.display.Math object>"
      ]
     },
     "metadata": {},
     "output_type": "display_data"
    }
   ],
   "source": [
    "import IPython.display as dp\n",
    "import sympy as sp\n",
    "\n",
    "from eigen_qr import qr_eigen\n",
    "\n",
    "a = sp.Matrix([\n",
    "    [3, 0, 0, ],\n",
    "    [1, 3, 0, ],\n",
    "    [0, 0, 6, ],\n",
    "])\n",
    "\n",
    "eigen_vals, eigen_vecs = qr_eigen(a, iterations=100, precision=8, output=False)\n",
    "\n",
    "for i in range(len(eigen_vals)):\n",
    "    dp.display(dp.Math(f'\\\\lambda_{{ {i + 1} }} = {sp.latex(eigen_vals[i])}, v = {sp.latex(eigen_vecs[:, i:i+1])}'))\n"
   ]
  }
 ],
 "metadata": {
  "kernelspec": {
   "display_name": "hm-scripts-lwuRK109",
   "language": "python",
   "name": "python3"
  },
  "language_info": {
   "codemirror_mode": {
    "name": "ipython",
    "version": 3
   },
   "file_extension": ".py",
   "mimetype": "text/x-python",
   "name": "python",
   "nbconvert_exporter": "python",
   "pygments_lexer": "ipython3",
   "version": "3.10.9"
  },
  "vscode": {
   "interpreter": {
    "hash": "30ba78cb2b325b4f7e68b2af073cd0979c38adcec94b7a163f854bda517ad64d"
   }
  }
 },
 "nbformat": 4,
 "nbformat_minor": 0
}
