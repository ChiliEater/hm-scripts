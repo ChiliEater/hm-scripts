{
 "cells": [
  {
   "cell_type": "code",
   "execution_count": 5,
   "metadata": {
    "collapsed": false
   },
   "outputs": [
    {
     "data": {
      "text/latex": [
       "$\\displaystyle \\lambda_{ 1 } = 0.5 - 2.39791576165636 i, v = \\left[\\begin{matrix}0.25750247\\\\0.93133503\\\\0.25750246\\end{matrix}\\right]$"
      ],
      "text/plain": [
       "<IPython.core.display.Math object>"
      ]
     },
     "metadata": {},
     "output_type": "display_data"
    },
    {
     "data": {
      "text/latex": [
       "$\\displaystyle \\lambda_{ 2 } = 0.5 + 2.39791576165636 i, v = \\left[\\begin{matrix}-0.65855332\\\\0.36416344\\\\-0.65855332\\end{matrix}\\right]$"
      ],
      "text/plain": [
       "<IPython.core.display.Math object>"
      ]
     },
     "metadata": {},
     "output_type": "display_data"
    },
    {
     "data": {
      "text/latex": [
       "$\\displaystyle \\lambda_{ 3 } = 1.0, v = \\left[\\begin{matrix}-0.70710678\\\\1.1589918 \\cdot 10^{-9}\\\\0.70710678\\end{matrix}\\right]$"
      ],
      "text/plain": [
       "<IPython.core.display.Math object>"
      ]
     },
     "metadata": {},
     "output_type": "display_data"
    },
    {
     "data": {
      "image/png": "[encoded data removed]",
      "text/latex": [
       "$\\displaystyle \\left[\\begin{matrix}0.25750247 & -0.65855332 & -0.70710678\\\\0.93133503 & 0.36416344 & 1.1589918 \\cdot 10^{-9}\\\\0.25750246 & -0.65855332 & 0.70710678\\end{matrix}\\right]$"
      ],
      "text/plain": [
       "⎡0.25750247  -0.65855332  -0.70710678 ⎤\n",
       "⎢                                     ⎥\n",
       "⎢0.93133503  0.36416344   1.1589918e-9⎥\n",
       "⎢                                     ⎥\n",
       "⎣0.25750246  -0.65855332   0.70710678 ⎦"
      ]
     },
     "metadata": {},
     "output_type": "display_data"
    }
   ],
   "source": [
    "import IPython.display as dp\n",
    "import sympy as sp\n",
    "\n",
    "from eigen_qr import qr_eigen\n",
    "\n",
    "a = sp.Matrix([\n",
    "    [1, -2, 0],\n",
    "    [2, 0, 1],\n",
    "    [0, -2, 1],\n",
    "])\n",
    "\n",
    "eigen_vals, eigen_vecs = qr_eigen(a, iterations=100, precision=8, output=False)\n",
    "\n",
    "for i in range(len(eigen_vals)):\n",
    "    dp.display(dp.Math(f'\\\\lambda_{{ {i + 1} }} = {sp.latex(eigen_vals[i])}, v = {sp.latex(eigen_vecs[:, i:i+1])}'))\n"
   ]
  }
 ],
 "metadata": {
  "kernelspec": {
   "display_name": "Python 3",
   "language": "python",
   "name": "python3"
  },
  "language_info": {
   "codemirror_mode": {
    "name": "ipython",
    "version": 3
   },
   "file_extension": ".py",
   "mimetype": "text/x-python",
   "name": "python",
   "nbconvert_exporter": "python",
   "pygments_lexer": "ipython3",
   "version": "3.10.9"
  },
  "vscode": {
   "interpreter": {
    "hash": "e7370f93d1d0cde622a1f8e1c04877d8463912d04d973331ad4851f04de6915a"
   }
  }
 },
 "nbformat": 4,
 "nbformat_minor": 0
}
