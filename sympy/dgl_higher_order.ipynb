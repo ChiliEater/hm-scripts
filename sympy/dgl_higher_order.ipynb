{
 "cells": [
  {
   "cell_type": "code",
   "execution_count": 2,
   "metadata": {},
   "outputs": [
    {
     "data": {
      "text/latex": [
       "$\\displaystyle x_{1} = x_{0} + h = 0 + 0.5 = 0.5 \\quad y_{1} = y_{0} + h \\cdot f(x_{0}, y_{0}) = Matrix([[2], [0], [0]]) + 0.5 \\cdot Matrix([[0], [0], [-2]]) = \\left[\\begin{matrix}2\\\\0\\\\-1.0\\end{matrix}\\right]$"
      ],
      "text/plain": [
       "<IPython.core.display.Math object>"
      ]
     },
     "metadata": {},
     "output_type": "display_data"
    },
    {
     "data": {
      "text/latex": [
       "$\\displaystyle x_{2} = x_{1} + h = 0.5 + 0.5 = 1.0 \\quad y_{2} = y_{1} + h \\cdot f(x_{1}, y_{1}) = Matrix([[2], [0], [-1.00000000000000]]) + 0.5 \\cdot Matrix([[0], [-1.00000000000000], [-0.934693402873666]]) = \\left[\\begin{matrix}2\\\\-0.5\\\\-1.46734670143683\\end{matrix}\\right]$"
      ],
      "text/plain": [
       "<IPython.core.display.Math object>"
      ]
     },
     "metadata": {},
     "output_type": "display_data"
    },
    {
     "name": "stdout",
     "output_type": "stream",
     "text": [
      "x_0 = 0\n",
      "z_0 = Matrix([[2], [0], [0]])\n",
      "\n",
      "x_1 = 0.5\n",
      "z_1 = Matrix([[2], [0], [-1.00000000000000]])\n",
      "\n",
      "x_2 = 1.0\n",
      "z_2 = Matrix([[2], [-0.500000000000000], [-1.46734670143683]])\n",
      "\n"
     ]
    }
   ],
   "source": [
    "import sympy as sp\n",
    "import importlib\n",
    "\n",
    "import dgl_euler as euler\n",
    "import dgl_runge_kutta as runge_kutta\n",
    "\n",
    "importlib.reload(euler)\n",
    "importlib.reload(runge_kutta)\n",
    "\n",
    "# y''' + 5y'' + 8y' + 6y = 10e^(-x)\n",
    "\n",
    "# 1. Auflösen nach höchster Ableitung\n",
    "#   -> y''' = 10e^(-x) - 5y'' - 8y' - 6y\n",
    "# 2. Ersetzen durch neue Variable\n",
    "#   -> z_1 = y\n",
    "#   -> z_2 = y'\n",
    "#   -> z_3 = y''\n",
    "# 3. Ersetzen der Ableitungen\n",
    "#   -> z_1' = y' = z_2\n",
    "#   -> z_2' = y'' = z_3\n",
    "#   -> z_3' = y''' = 10e^(-x) - 5z_3 - 8z_2 - 6z_1\n",
    "# 4. Vektorielle Darstellung\n",
    "#   -> z' = (z_1', z_2', z_3')^T\n",
    "#         = (z_2, z_3, 10e^(-x) - 5z_3 - 8z_2 - 6z_1)^T\n",
    "#         = f(x, z)\n",
    "\n",
    "f = lambda x, z: sp.Matrix([\n",
    "    z[1],\n",
    "    z[2],\n",
    "    10 * sp.exp(-x) - 5 * z[2] - 8 * z[1] - 6 * z[0]\n",
    "])\n",
    "\n",
    "a = 0\n",
    "b = 1\n",
    "n = 2\n",
    "\n",
    "z0 = sp.Matrix([2, 0, 0])\n",
    "\n",
    "x, z = euler.classic(f, a, b, n, z0, print_steps=True)\n",
    "\n",
    "for i in range(n + 1):\n",
    "    print(f'x_{i} = {x[i]}')\n",
    "    print(f'z_{i} = {z[i]}')\n",
    "    print()"
   ]
  }
 ],
 "metadata": {
  "kernelspec": {
   "display_name": "venv",
   "language": "python",
   "name": "python3"
  },
  "language_info": {
   "codemirror_mode": {
    "name": "ipython",
    "version": 3
   },
   "file_extension": ".py",
   "mimetype": "text/x-python",
   "name": "python",
   "nbconvert_exporter": "python",
   "pygments_lexer": "ipython3",
   "version": "3.11.3"
  },
  "orig_nbformat": 4
 },
 "nbformat": 4,
 "nbformat_minor": 2
}
