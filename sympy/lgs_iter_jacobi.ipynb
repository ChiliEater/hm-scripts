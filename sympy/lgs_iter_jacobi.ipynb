{
 "cells": [
  {
   "cell_type": "code",
   "execution_count": 2,
   "metadata": {
    "collapsed": false
   },
   "outputs": [
    {
     "data": {
      "text/latex": [
       "Iteration 1"
      ],
      "text/plain": [
       "<IPython.core.display.Latex object>"
      ]
     },
     "metadata": {},
     "output_type": "display_data"
    },
    {
     "data": {
      "text/latex": [
       "$\\displaystyle x_{ 0 } = \\frac{ 2.3 }{ 1 } - \\frac{ (2.3 \\cdot -1) + (0 \\cdot 1) + (-2.3 \\cdot -1) }{ 1 } = 2.3$"
      ],
      "text/plain": [
       "<IPython.core.display.Math object>"
      ]
     },
     "metadata": {},
     "output_type": "display_data"
    },
    {
     "data": {
      "text/latex": [
       "$\\displaystyle x_{ 1 } = \\frac{ -1.3 }{ 1 } - \\frac{ (2.3 \\cdot -1) + (-2.3 \\cdot 1) + (0 \\cdot -1) }{ 1 } = 3.3$"
      ],
      "text/plain": [
       "<IPython.core.display.Math object>"
      ]
     },
     "metadata": {},
     "output_type": "display_data"
    },
    {
     "data": {
      "text/latex": [
       "$\\displaystyle x_{ 2 } = \\frac{ 2.7 }{ 1 } - \\frac{ (0 \\cdot -1) + (-2.3 \\cdot -1) + (2.3 \\cdot -1) }{ 1 } = 2.7$"
      ],
      "text/plain": [
       "<IPython.core.display.Math object>"
      ]
     },
     "metadata": {},
     "output_type": "display_data"
    },
    {
     "data": {
      "text/latex": [
       "$\\displaystyle x_{ 3 } = \\frac{ -1.7 }{ 1 } - \\frac{ (-2.3 \\cdot -1) + (0 \\cdot -1) + (2.3 \\cdot 1) }{ 1 } = -6.3$"
      ],
      "text/plain": [
       "<IPython.core.display.Math object>"
      ]
     },
     "metadata": {},
     "output_type": "display_data"
    },
    {
     "name": "stdout",
     "output_type": "stream",
     "text": [
      "Matrix([[2.30000019073486], [3.30000019073486], [2.69999980926514], [-6.30000019073486]])\n"
     ]
    }
   ],
   "source": [
    "import sympy as sp\n",
    "\n",
    "from lgs_iter_jacobi import jacobi\n",
    "\n",
    "alpha = sp.var(\"alpha\")\n",
    "a = sp.Matrix([\n",
    "    [1, alpha, 0, -alpha, ],\n",
    "    [alpha, 1, -alpha, 0, ],\n",
    "    [0, -alpha, 1, alpha, ],\n",
    "    [-alpha, 0, alpha, 1, ],\n",
    "])\n",
    "\n",
    "b = sp.Matrix([\n",
    "    [2.3, ],\n",
    "    [-1.3, ],\n",
    "    [2.7, ],\n",
    "    [-1.7, ],\n",
    "])\n",
    "\n",
    "x0 = sp.Matrix([\n",
    "    [-1, ],\n",
    "    [-1, ],\n",
    "    [1, ],\n",
    "    [-1, ],\n",
    "])\n",
    "\n",
    "x = jacobi(a, b, x0, 1, precision=6).evalf()\n",
    "print(x)"
   ]
  }
 ],
 "metadata": {
  "kernelspec": {
   "display_name": "hm-scripts-lwuRK109",
   "language": "python",
   "name": "python3"
  },
  "language_info": {
   "codemirror_mode": {
    "name": "ipython",
    "version": 3
   },
   "file_extension": ".py",
   "mimetype": "text/x-python",
   "name": "python",
   "nbconvert_exporter": "python",
   "pygments_lexer": "ipython3",
   "version": "3.10.9"
  },
  "vscode": {
   "interpreter": {
    "hash": "30ba78cb2b325b4f7e68b2af073cd0979c38adcec94b7a163f854bda517ad64d"
   }
  }
 },
 "nbformat": 4,
 "nbformat_minor": 0
}
