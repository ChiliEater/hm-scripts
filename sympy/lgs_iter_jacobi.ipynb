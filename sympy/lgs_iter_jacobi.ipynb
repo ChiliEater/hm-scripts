{
 "cells": [
  {
   "cell_type": "code",
   "execution_count": 1,
   "outputs": [
    {
     "data": {
      "text/plain": "<IPython.core.display.Latex object>",
      "text/latex": "Iteration 1"
     },
     "metadata": {},
     "output_type": "display_data"
    },
    {
     "data": {
      "text/plain": "<IPython.core.display.Math object>",
      "text/latex": "$\\displaystyle x_{ 0 } = \\frac{ 5 }{ 4 } - \\frac{ (-1 \\cdot 0) + (1 \\cdot 0) }{ 4 } = 1.25$"
     },
     "metadata": {},
     "output_type": "display_data"
    },
    {
     "data": {
      "text/plain": "<IPython.core.display.Math object>",
      "text/latex": "$\\displaystyle x_{ 1 } = \\frac{ 11 }{ 5 } - \\frac{ (-2 \\cdot 0) + (1 \\cdot 0) }{ 5 } = 2.2$"
     },
     "metadata": {},
     "output_type": "display_data"
    },
    {
     "data": {
      "text/plain": "<IPython.core.display.Math object>",
      "text/latex": "$\\displaystyle x_{ 2 } = \\frac{ 12 }{ 5 } - \\frac{ (1 \\cdot 0) + (-2 \\cdot 0) }{ 5 } = 2.4$"
     },
     "metadata": {},
     "output_type": "display_data"
    },
    {
     "data": {
      "text/plain": "<IPython.core.display.Latex object>",
      "text/latex": "Iteration 2"
     },
     "metadata": {},
     "output_type": "display_data"
    },
    {
     "data": {
      "text/plain": "<IPython.core.display.Math object>",
      "text/latex": "$\\displaystyle x_{ 0 } = \\frac{ 5 }{ 4 } - \\frac{ (-1 \\cdot 2.2) + (1 \\cdot 2.4) }{ 4 } = 1.2$"
     },
     "metadata": {},
     "output_type": "display_data"
    },
    {
     "data": {
      "text/plain": "<IPython.core.display.Math object>",
      "text/latex": "$\\displaystyle x_{ 1 } = \\frac{ 11 }{ 5 } - \\frac{ (-2 \\cdot 1.25) + (1 \\cdot 2.4) }{ 5 } = 2.22$"
     },
     "metadata": {},
     "output_type": "display_data"
    },
    {
     "data": {
      "text/plain": "<IPython.core.display.Math object>",
      "text/latex": "$\\displaystyle x_{ 2 } = \\frac{ 12 }{ 5 } - \\frac{ (1 \\cdot 1.25) + (-2 \\cdot 2.2) }{ 5 } = 3.03$"
     },
     "metadata": {},
     "output_type": "display_data"
    },
    {
     "data": {
      "text/plain": "<IPython.core.display.Latex object>",
      "text/latex": "Iteration 3"
     },
     "metadata": {},
     "output_type": "display_data"
    },
    {
     "data": {
      "text/plain": "<IPython.core.display.Math object>",
      "text/latex": "$\\displaystyle x_{ 0 } = \\frac{ 5 }{ 4 } - \\frac{ (-1 \\cdot 2.22) + (1 \\cdot 3.03) }{ 4 } = 1.0475$"
     },
     "metadata": {},
     "output_type": "display_data"
    },
    {
     "data": {
      "text/plain": "<IPython.core.display.Math object>",
      "text/latex": "$\\displaystyle x_{ 1 } = \\frac{ 11 }{ 5 } - \\frac{ (-2 \\cdot 1.2) + (1 \\cdot 3.03) }{ 5 } = 2.074$"
     },
     "metadata": {},
     "output_type": "display_data"
    },
    {
     "data": {
      "text/plain": "<IPython.core.display.Math object>",
      "text/latex": "$\\displaystyle x_{ 2 } = \\frac{ 12 }{ 5 } - \\frac{ (1 \\cdot 1.2) + (-2 \\cdot 2.22) }{ 5 } = 3.048$"
     },
     "metadata": {},
     "output_type": "display_data"
    },
    {
     "data": {
      "text/plain": "<IPython.core.display.Latex object>",
      "text/latex": "Iteration 4"
     },
     "metadata": {},
     "output_type": "display_data"
    },
    {
     "data": {
      "text/plain": "<IPython.core.display.Math object>",
      "text/latex": "$\\displaystyle x_{ 0 } = \\frac{ 5 }{ 4 } - \\frac{ (-1 \\cdot 2.074) + (1 \\cdot 3.048) }{ 4 } = 1.0065$"
     },
     "metadata": {},
     "output_type": "display_data"
    },
    {
     "data": {
      "text/plain": "<IPython.core.display.Math object>",
      "text/latex": "$\\displaystyle x_{ 1 } = \\frac{ 11 }{ 5 } - \\frac{ (-2 \\cdot 1.0475) + (1 \\cdot 3.048) }{ 5 } = 2.0094$"
     },
     "metadata": {},
     "output_type": "display_data"
    },
    {
     "data": {
      "text/plain": "<IPython.core.display.Math object>",
      "text/latex": "$\\displaystyle x_{ 2 } = \\frac{ 12 }{ 5 } - \\frac{ (1 \\cdot 1.0475) + (-2 \\cdot 2.074) }{ 5 } = 3.0201$"
     },
     "metadata": {},
     "output_type": "display_data"
    },
    {
     "data": {
      "text/plain": "<IPython.core.display.Latex object>",
      "text/latex": "Iteration 5"
     },
     "metadata": {},
     "output_type": "display_data"
    },
    {
     "data": {
      "text/plain": "<IPython.core.display.Math object>",
      "text/latex": "$\\displaystyle x_{ 0 } = \\frac{ 5 }{ 4 } - \\frac{ (-1 \\cdot 2.0094) + (1 \\cdot 3.0201) }{ 4 } = 0.997325$"
     },
     "metadata": {},
     "output_type": "display_data"
    },
    {
     "data": {
      "text/plain": "<IPython.core.display.Math object>",
      "text/latex": "$\\displaystyle x_{ 1 } = \\frac{ 11 }{ 5 } - \\frac{ (-2 \\cdot 1.0065) + (1 \\cdot 3.0201) }{ 5 } = 1.99858$"
     },
     "metadata": {},
     "output_type": "display_data"
    },
    {
     "data": {
      "text/plain": "<IPython.core.display.Math object>",
      "text/latex": "$\\displaystyle x_{ 2 } = \\frac{ 12 }{ 5 } - \\frac{ (1 \\cdot 1.0065) + (-2 \\cdot 2.0094) }{ 5 } = 3.00246$"
     },
     "metadata": {},
     "output_type": "display_data"
    },
    {
     "name": "stdout",
     "output_type": "stream",
     "text": [
      "Matrix([[0.997325062751770], [1.99857997894287], [3.00245952606201]])\n"
     ]
    }
   ],
   "source": [
    "import sympy as sp\n",
    "\n",
    "from lgs_iter_jacobi import jacobi\n",
    "\n",
    "a = sp.Matrix([\n",
    "    [4, -1, 1],\n",
    "    [-2, 5, 1],\n",
    "    [1, -2, 5],\n",
    "])\n",
    "\n",
    "b = sp.Matrix([5, 11, 12])\n",
    "x0 = sp.Matrix([0, 0, 0])\n",
    "\n",
    "x = jacobi(a, b, x0, 5, precision=6).evalf()\n",
    "print(x)"
   ],
   "metadata": {
    "collapsed": false
   }
  }
 ],
 "metadata": {
  "kernelspec": {
   "display_name": "Python 3",
   "language": "python",
   "name": "python3"
  },
  "language_info": {
   "codemirror_mode": {
    "name": "ipython",
    "version": 2
   },
   "file_extension": ".py",
   "mimetype": "text/x-python",
   "name": "python",
   "nbconvert_exporter": "python",
   "pygments_lexer": "ipython2",
   "version": "2.7.6"
  }
 },
 "nbformat": 4,
 "nbformat_minor": 0
}
