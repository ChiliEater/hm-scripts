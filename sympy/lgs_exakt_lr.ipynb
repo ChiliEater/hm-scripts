{
 "cells": [
  {
   "cell_type": "code",
   "execution_count": 1,
   "outputs": [
    {
     "data": {
      "text/plain": "<IPython.core.display.Math object>",
      "text/latex": "$\\displaystyle A = \\left[\\begin{matrix}1 & 1 & 1\\\\2 & 2 & 5\\\\4 & 6 & 8\\end{matrix}\\right], \\quad b = \\left[\\begin{matrix}1\\\\0\\\\0\\end{matrix}\\right]$"
     },
     "metadata": {},
     "output_type": "display_data"
    },
    {
     "data": {
      "text/plain": "<IPython.core.display.Markdown object>",
      "text/markdown": "## LR-Zerlegung"
     },
     "metadata": {},
     "output_type": "display_data"
    },
    {
     "data": {
      "text/plain": "<IPython.core.display.Math object>",
      "text/latex": "$\\displaystyle z_{2} \\equiv z_{2} - (2) \\cdot z_{1} \\Rightarrow R_1 = \\left[\\begin{matrix}1 & 1 & 1\\\\0 & 0 & 3\\\\4 & 6 & 8\\end{matrix}\\right]$"
     },
     "metadata": {},
     "output_type": "display_data"
    },
    {
     "data": {
      "text/plain": "<IPython.core.display.Math object>",
      "text/latex": "$\\displaystyle z_{3} \\equiv z_{3} - (4) \\cdot z_{1} \\Rightarrow R_2 = \\left[\\begin{matrix}1 & 1 & 1\\\\0 & 0 & 3\\\\0 & 2 & 4\\end{matrix}\\right]$"
     },
     "metadata": {},
     "output_type": "display_data"
    },
    {
     "data": {
      "text/plain": "<IPython.core.display.Math object>",
      "text/latex": "$\\displaystyle \\text{pivot: swapping rows 2 and 3 in }\\left[\\begin{matrix}1 & 1 & 1\\\\0 & 0 & 3\\\\0 & 2 & 4\\end{matrix}\\right] \\; L = \\left[\\begin{matrix}0 & 0 & 0\\\\2 & 0 & 0\\\\4 & 0 & 0\\end{matrix}\\right] \\; P = \\left[\\begin{matrix}1 & 0 & 0\\\\0 & 1 & 0\\\\0 & 0 & 1\\end{matrix}\\right] \\text{ gives }\\left[\\begin{matrix}1 & 1 & 1\\\\0 & 2 & 4\\\\0 & 0 & 3\\end{matrix}\\right] \\; L = \\left[\\begin{matrix}0 & 0 & 0\\\\4 & 0 & 0\\\\2 & 0 & 0\\end{matrix}\\right] \\; P = \\left[\\begin{matrix}1 & 0 & 0\\\\0 & 0 & 1\\\\0 & 1 & 0\\end{matrix}\\right]$"
     },
     "metadata": {},
     "output_type": "display_data"
    },
    {
     "data": {
      "text/plain": "<IPython.core.display.Math object>",
      "text/latex": "$\\displaystyle L = \\left[\\begin{matrix}1 & 0 & 0\\\\4 & 1 & 0\\\\2 & 0 & 1\\end{matrix}\\right], \\quad R = \\left[\\begin{matrix}1 & 1 & 1\\\\0 & 2 & 4\\\\0 & 0 & 3\\end{matrix}\\right], \\quad P = \\left[\\begin{matrix}1 & 0 & 0\\\\0 & 0 & 1\\\\0 & 1 & 0\\end{matrix}\\right]$"
     },
     "metadata": {},
     "output_type": "display_data"
    },
    {
     "data": {
      "text/plain": "<IPython.core.display.Markdown object>",
      "text/markdown": "## Vorwärtseinsetzen"
     },
     "metadata": {},
     "output_type": "display_data"
    },
    {
     "data": {
      "text/plain": "<IPython.core.display.Math object>",
      "text/latex": "$\\displaystyle Ly = Pb: \\left[\\begin{matrix}1 & 0 & 0\\\\4 & 1 & 0\\\\2 & 0 & 1\\end{matrix}\\right] y = \\left[\\begin{matrix}1 & 0 & 0\\\\0 & 0 & 1\\\\0 & 1 & 0\\end{matrix}\\right] \\left[\\begin{matrix}1\\\\0\\\\0\\end{matrix}\\right] = \\left[\\begin{matrix}1\\\\0\\\\0\\end{matrix}\\right]$"
     },
     "metadata": {},
     "output_type": "display_data"
    },
    {
     "data": {
      "text/plain": "<IPython.core.display.Math object>",
      "text/latex": "$\\displaystyle y_{0} = \\frac{1}{1} = 1$"
     },
     "metadata": {},
     "output_type": "display_data"
    },
    {
     "data": {
      "text/plain": "<IPython.core.display.Math object>",
      "text/latex": "$\\displaystyle y_{1} = \\frac{0 - (4)}{1} = \\frac{-4}{1} = -4$"
     },
     "metadata": {},
     "output_type": "display_data"
    },
    {
     "data": {
      "text/plain": "<IPython.core.display.Math object>",
      "text/latex": "$\\displaystyle y_{2} = \\frac{0 - (2)}{1} = \\frac{-2}{1} = -2$"
     },
     "metadata": {},
     "output_type": "display_data"
    },
    {
     "data": {
      "text/plain": "<IPython.core.display.Math object>",
      "text/latex": "$\\displaystyle y = \\left[\\begin{matrix}1\\\\-4\\\\-2\\end{matrix}\\right]$"
     },
     "metadata": {},
     "output_type": "display_data"
    },
    {
     "data": {
      "text/plain": "<IPython.core.display.Markdown object>",
      "text/markdown": "## Rückwärtseinsetzen"
     },
     "metadata": {},
     "output_type": "display_data"
    },
    {
     "data": {
      "text/plain": "<IPython.core.display.Math object>",
      "text/latex": "$\\displaystyle Rx = y: \\left[\\begin{matrix}1 & 1 & 1\\\\0 & 2 & 4\\\\0 & 0 & 3\\end{matrix}\\right] x = \\left[\\begin{matrix}1\\\\-4\\\\-2\\end{matrix}\\right]$"
     },
     "metadata": {},
     "output_type": "display_data"
    },
    {
     "data": {
      "text/plain": "<IPython.core.display.Math object>",
      "text/latex": "$\\displaystyle x_{3} = \\frac{-2}{3} = - \\frac{2}{3}$"
     },
     "metadata": {},
     "output_type": "display_data"
    },
    {
     "data": {
      "text/plain": "<IPython.core.display.Math object>",
      "text/latex": "$\\displaystyle x_{2} = \\frac{-4 - (- \\frac{8}{3})}{2} = \\frac{- \\frac{4}{3}}{2} = - \\frac{2}{3}$"
     },
     "metadata": {},
     "output_type": "display_data"
    },
    {
     "data": {
      "text/plain": "<IPython.core.display.Math object>",
      "text/latex": "$\\displaystyle x_{1} = \\frac{1 - (- \\frac{4}{3})}{1} = \\frac{\\frac{7}{3}}{1} = \\frac{7}{3}$"
     },
     "metadata": {},
     "output_type": "display_data"
    },
    {
     "data": {
      "text/plain": "<IPython.core.display.Math object>",
      "text/latex": "$\\displaystyle x = \\left[\\begin{matrix}\\frac{7}{3}\\\\- \\frac{2}{3}\\\\- \\frac{2}{3}\\end{matrix}\\right]$"
     },
     "metadata": {},
     "output_type": "display_data"
    }
   ],
   "source": [
    "import sympy as sp\n",
    "\n",
    "from lgs_exakt_lr import lr\n",
    "\n",
    "var = sp.var('e')\n",
    "\n",
    "a = sp.Matrix([\n",
    "    [1, 1, 1],\n",
    "    [2, 2, 5],\n",
    "    [4, 6, 8],\n",
    "])\n",
    "\n",
    "b = sp.Matrix([1, 0, 0])\n",
    "\n",
    "a = sp.Matrix([\n",
    "    [1, 1, 1],\n",
    "    [2, 2, 5],\n",
    "    [4, 6, 8],\n",
    "])\n",
    "\n",
    "b = sp.Matrix([1, 0, 0])\n",
    "\n",
    "l, r, x = lr(a, b, pivoting=False, output=True)\n"
   ],
   "metadata": {
    "collapsed": false
   }
  }
 ],
 "metadata": {
  "kernelspec": {
   "display_name": "Python 3",
   "language": "python",
   "name": "python3"
  },
  "language_info": {
   "codemirror_mode": {
    "name": "ipython",
    "version": 2
   },
   "file_extension": ".py",
   "mimetype": "text/x-python",
   "name": "python",
   "nbconvert_exporter": "python",
   "pygments_lexer": "ipython2",
   "version": "2.7.6"
  }
 },
 "nbformat": 4,
 "nbformat_minor": 0
}
