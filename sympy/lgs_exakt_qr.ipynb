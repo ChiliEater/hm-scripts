{
 "cells": [
  {
   "cell_type": "code",
   "execution_count": 1,
   "metadata": {
    "collapsed": false
   },
   "outputs": [
    {
     "data": {
      "text/latex": [
       "$\\displaystyle A = \\left[\\begin{matrix}4 & - \\alpha\\\\-3 & \\alpha\\end{matrix}\\right], \\quad b = \\left[\\begin{matrix}9\\\\-4\\\\z\\end{matrix}\\right]$"
      ],
      "text/plain": [
       "<IPython.core.display.Math object>"
      ]
     },
     "metadata": {},
     "output_type": "display_data"
    },
    {
     "data": {
      "text/markdown": [
       "## QR-Zerlegung"
      ],
      "text/plain": [
       "<IPython.core.display.Markdown object>"
      ]
     },
     "metadata": {},
     "output_type": "display_data"
    },
    {
     "data": {
      "text/markdown": [
       "Iteration 1"
      ],
      "text/plain": [
       "<IPython.core.display.Markdown object>"
      ]
     },
     "metadata": {},
     "output_type": "display_data"
    },
    {
     "data": {
      "text/latex": [
       "$\\displaystyle A_1 = \\left[\\begin{matrix}4 & - \\alpha\\\\-3 & \\alpha\\end{matrix}\\right] \\; \\rightarrow \\; a_1 = \\left[\\begin{matrix}4\\\\-3\\end{matrix}\\right]$"
      ],
      "text/plain": [
       "<IPython.core.display.Math object>"
      ]
     },
     "metadata": {},
     "output_type": "display_data"
    },
    {
     "data": {
      "text/latex": [
       "$\\displaystyle v_1 = \\left[\\begin{matrix}9\\\\-3\\end{matrix}\\right], \\; |v_1| = 3 \\sqrt{10} \\approx 9.4868$"
      ],
      "text/plain": [
       "<IPython.core.display.Math object>"
      ]
     },
     "metadata": {},
     "output_type": "display_data"
    },
    {
     "data": {
      "text/latex": [
       "$\\displaystyle u_1 = \\left[\\begin{matrix}0.94868\\\\-0.31623\\end{matrix}\\right] \\; \\rightarrow \\; u_1^T = \\left[\\begin{matrix}0.94868 & -0.31623\\end{matrix}\\right]$"
      ],
      "text/plain": [
       "<IPython.core.display.Math object>"
      ]
     },
     "metadata": {},
     "output_type": "display_data"
    },
    {
     "data": {
      "text/latex": [
       "$\\displaystyle H_1 = I_2 - 2 u_1 u_1^T = I_2 - 2 \\cdot \\left[\\begin{matrix}0.9 & -0.3\\\\-0.3 & 0.1\\end{matrix}\\right] = \\left[\\begin{matrix}-0.8 & 0.6\\\\0.6 & 0.8\\end{matrix}\\right]$"
      ],
      "text/plain": [
       "<IPython.core.display.Math object>"
      ]
     },
     "metadata": {},
     "output_type": "display_data"
    },
    {
     "data": {
      "text/latex": [
       "$\\displaystyle Q_1 = \\left[\\begin{matrix}-0.8 & 0.6\\\\0.6 & 0.8\\end{matrix}\\right] \\rightarrow Q = Q \\cdot Q_1^T = \\left[\\begin{matrix}-0.8 & 0.6\\\\0.6 & 0.8\\end{matrix}\\right], \\; R = Q_1 \\cdot R = \\left[\\begin{matrix}-5.0 & 1.4 \\alpha\\\\0 & 0.2 \\alpha\\end{matrix}\\right]$"
      ],
      "text/plain": [
       "<IPython.core.display.Math object>"
      ]
     },
     "metadata": {},
     "output_type": "display_data"
    },
    {
     "data": {
      "text/markdown": [
       "Resultat"
      ],
      "text/plain": [
       "<IPython.core.display.Markdown object>"
      ]
     },
     "metadata": {},
     "output_type": "display_data"
    },
    {
     "data": {
      "text/latex": [
       "$\\displaystyle Q = \\left[\\begin{matrix}-0.8 & 0.6\\\\0.6 & 0.8\\end{matrix}\\right], \\quad R = \\left[\\begin{matrix}-5.0 & 1.4 \\alpha\\\\0 & 0.2 \\alpha\\end{matrix}\\right]$"
      ],
      "text/plain": [
       "<IPython.core.display.Math object>"
      ]
     },
     "metadata": {},
     "output_type": "display_data"
    },
    {
     "ename": "ShapeError",
     "evalue": "Matrix size mismatch.",
     "output_type": "error",
     "traceback": [
      "\u001b[0;31m---------------------------------------------------------------------------\u001b[0m",
      "\u001b[0;31mShapeError\u001b[0m                                Traceback (most recent call last)",
      "Cell \u001b[0;32mIn[1], line 16\u001b[0m\n\u001b[1;32m     10\u001b[0m b \u001b[39m=\u001b[39m sp\u001b[39m.\u001b[39mMatrix([\n\u001b[1;32m     11\u001b[0m     [\u001b[39m1\u001b[39m, ],\n\u001b[1;32m     12\u001b[0m     [\u001b[39m-\u001b[39m\u001b[39m2\u001b[39m, ],\n\u001b[1;32m     13\u001b[0m ])\n\u001b[1;32m     14\u001b[0m b \u001b[39m=\u001b[39m sp\u001b[39m.\u001b[39mMatrix([\u001b[39m9\u001b[39m, \u001b[39m-\u001b[39m\u001b[39m4\u001b[39m, sp\u001b[39m.\u001b[39mvar(\u001b[39m'\u001b[39m\u001b[39mz\u001b[39m\u001b[39m'\u001b[39m)])\n\u001b[0;32m---> 16\u001b[0m q, r, x \u001b[39m=\u001b[39m qr(a, b, precision\u001b[39m=\u001b[39;49m\u001b[39m5\u001b[39;49m, output\u001b[39m=\u001b[39;49m\u001b[39mTrue\u001b[39;49;00m)\n",
      "File \u001b[0;32m~/Documents/repos/hm-scripts/sympy/lgs_exakt_qr.py:98\u001b[0m, in \u001b[0;36mqr\u001b[0;34m(a, b, precision, output)\u001b[0m\n\u001b[1;32m     95\u001b[0m     dp\u001b[39m.\u001b[39mdisplay(dp\u001b[39m.\u001b[39mMarkdown(\u001b[39m'\u001b[39m\u001b[39mResultat\u001b[39m\u001b[39m'\u001b[39m))\n\u001b[1;32m     96\u001b[0m     dp\u001b[39m.\u001b[39mdisplay(dp\u001b[39m.\u001b[39mMath(\u001b[39mf\u001b[39m\u001b[39m'\u001b[39m\u001b[39mQ = \u001b[39m\u001b[39m{\u001b[39;00msp\u001b[39m.\u001b[39mlatex(q)\u001b[39m}\u001b[39;00m\u001b[39m, \u001b[39m\u001b[39m\\\\\u001b[39;00m\u001b[39mquad R = \u001b[39m\u001b[39m{\u001b[39;00msp\u001b[39m.\u001b[39mlatex(r)\u001b[39m}\u001b[39;00m\u001b[39m'\u001b[39m))\n\u001b[0;32m---> 98\u001b[0m y \u001b[39m=\u001b[39m sp\u001b[39m.\u001b[39;49mtranspose(q) \u001b[39m@\u001b[39;49m b\n\u001b[1;32m    100\u001b[0m \u001b[39mif\u001b[39;00m output:\n\u001b[1;32m    101\u001b[0m     dp\u001b[39m.\u001b[39mdisplay(dp\u001b[39m.\u001b[39mMarkdown(\u001b[39m'\u001b[39m\u001b[39m## Rückwärtseinsetzen\u001b[39m\u001b[39m'\u001b[39m))\n",
      "File \u001b[0;32m~/.local/share/virtualenvs/hm-scripts-lwuRK109/lib/python3.10/site-packages/sympy/core/decorators.py:105\u001b[0m, in \u001b[0;36mcall_highest_priority.<locals>.priority_decorator.<locals>.binary_op_wrapper\u001b[0;34m(self, other)\u001b[0m\n\u001b[1;32m    103\u001b[0m         f \u001b[39m=\u001b[39m \u001b[39mgetattr\u001b[39m(other, method_name, \u001b[39mNone\u001b[39;00m)\n\u001b[1;32m    104\u001b[0m         \u001b[39mif\u001b[39;00m f \u001b[39mis\u001b[39;00m \u001b[39mnot\u001b[39;00m \u001b[39mNone\u001b[39;00m:\n\u001b[0;32m--> 105\u001b[0m             \u001b[39mreturn\u001b[39;00m f(\u001b[39mself\u001b[39;49m)\n\u001b[1;32m    106\u001b[0m \u001b[39mreturn\u001b[39;00m func(\u001b[39mself\u001b[39m, other)\n",
      "File \u001b[0;32m~/.local/share/virtualenvs/hm-scripts-lwuRK109/lib/python3.10/site-packages/sympy/core/decorators.py:106\u001b[0m, in \u001b[0;36mcall_highest_priority.<locals>.priority_decorator.<locals>.binary_op_wrapper\u001b[0;34m(self, other)\u001b[0m\n\u001b[1;32m    104\u001b[0m         \u001b[39mif\u001b[39;00m f \u001b[39mis\u001b[39;00m \u001b[39mnot\u001b[39;00m \u001b[39mNone\u001b[39;00m:\n\u001b[1;32m    105\u001b[0m             \u001b[39mreturn\u001b[39;00m f(\u001b[39mself\u001b[39m)\n\u001b[0;32m--> 106\u001b[0m \u001b[39mreturn\u001b[39;00m func(\u001b[39mself\u001b[39;49m, other)\n",
      "File \u001b[0;32m~/.local/share/virtualenvs/hm-scripts-lwuRK109/lib/python3.10/site-packages/sympy/matrices/common.py:2954\u001b[0m, in \u001b[0;36mMatrixArithmetic.__rmatmul__\u001b[0;34m(self, other)\u001b[0m\n\u001b[1;32m   2951\u001b[0m \u001b[39mif\u001b[39;00m \u001b[39mnot\u001b[39;00m \u001b[39mgetattr\u001b[39m(other, \u001b[39m'\u001b[39m\u001b[39mis_Matrix\u001b[39m\u001b[39m'\u001b[39m, \u001b[39mFalse\u001b[39;00m) \u001b[39mand\u001b[39;00m \u001b[39mnot\u001b[39;00m \u001b[39mgetattr\u001b[39m(other, \u001b[39m'\u001b[39m\u001b[39mis_MatrixLike\u001b[39m\u001b[39m'\u001b[39m, \u001b[39mFalse\u001b[39;00m):\n\u001b[1;32m   2952\u001b[0m     \u001b[39mreturn\u001b[39;00m \u001b[39mNotImplemented\u001b[39m\n\u001b[0;32m-> 2954\u001b[0m \u001b[39mreturn\u001b[39;00m \u001b[39mself\u001b[39;49m\u001b[39m.\u001b[39;49m\u001b[39m__rmul__\u001b[39;49m(other)\n",
      "File \u001b[0;32m~/.local/share/virtualenvs/hm-scripts-lwuRK109/lib/python3.10/site-packages/sympy/core/decorators.py:106\u001b[0m, in \u001b[0;36mcall_highest_priority.<locals>.priority_decorator.<locals>.binary_op_wrapper\u001b[0;34m(self, other)\u001b[0m\n\u001b[1;32m    104\u001b[0m         \u001b[39mif\u001b[39;00m f \u001b[39mis\u001b[39;00m \u001b[39mnot\u001b[39;00m \u001b[39mNone\u001b[39;00m:\n\u001b[1;32m    105\u001b[0m             \u001b[39mreturn\u001b[39;00m f(\u001b[39mself\u001b[39m)\n\u001b[0;32m--> 106\u001b[0m \u001b[39mreturn\u001b[39;00m func(\u001b[39mself\u001b[39;49m, other)\n",
      "File \u001b[0;32m~/.local/share/virtualenvs/hm-scripts-lwuRK109/lib/python3.10/site-packages/sympy/matrices/common.py:2958\u001b[0m, in \u001b[0;36mMatrixArithmetic.__rmul__\u001b[0;34m(self, other)\u001b[0m\n\u001b[1;32m   2956\u001b[0m \u001b[39m@call_highest_priority\u001b[39m(\u001b[39m'\u001b[39m\u001b[39m__mul__\u001b[39m\u001b[39m'\u001b[39m)\n\u001b[1;32m   2957\u001b[0m \u001b[39mdef\u001b[39;00m \u001b[39m__rmul__\u001b[39m(\u001b[39mself\u001b[39m, other):\n\u001b[0;32m-> 2958\u001b[0m     \u001b[39mreturn\u001b[39;00m \u001b[39mself\u001b[39;49m\u001b[39m.\u001b[39;49mrmultiply(other)\n",
      "File \u001b[0;32m~/.local/share/virtualenvs/hm-scripts-lwuRK109/lib/python3.10/site-packages/sympy/matrices/common.py:2979\u001b[0m, in \u001b[0;36mMatrixArithmetic.rmultiply\u001b[0;34m(self, other, dotprodsimp)\u001b[0m\n\u001b[1;32m   2975\u001b[0m \u001b[39mif\u001b[39;00m (\u001b[39mhasattr\u001b[39m(other, \u001b[39m'\u001b[39m\u001b[39mshape\u001b[39m\u001b[39m'\u001b[39m) \u001b[39mand\u001b[39;00m \u001b[39mlen\u001b[39m(other\u001b[39m.\u001b[39mshape) \u001b[39m==\u001b[39m \u001b[39m2\u001b[39m \u001b[39mand\u001b[39;00m\n\u001b[1;32m   2976\u001b[0m     (\u001b[39mgetattr\u001b[39m(other, \u001b[39m'\u001b[39m\u001b[39mis_Matrix\u001b[39m\u001b[39m'\u001b[39m, \u001b[39mTrue\u001b[39;00m) \u001b[39mor\u001b[39;00m\n\u001b[1;32m   2977\u001b[0m      \u001b[39mgetattr\u001b[39m(other, \u001b[39m'\u001b[39m\u001b[39mis_MatrixLike\u001b[39m\u001b[39m'\u001b[39m, \u001b[39mTrue\u001b[39;00m))):\n\u001b[1;32m   2978\u001b[0m     \u001b[39mif\u001b[39;00m \u001b[39mself\u001b[39m\u001b[39m.\u001b[39mshape[\u001b[39m0\u001b[39m] \u001b[39m!=\u001b[39m other\u001b[39m.\u001b[39mshape[\u001b[39m1\u001b[39m]:\n\u001b[0;32m-> 2979\u001b[0m         \u001b[39mraise\u001b[39;00m ShapeError(\u001b[39m\"\u001b[39m\u001b[39mMatrix size mismatch.\u001b[39m\u001b[39m\"\u001b[39m)\n\u001b[1;32m   2981\u001b[0m \u001b[39m# honest SymPy matrices defer to their class's routine\u001b[39;00m\n\u001b[1;32m   2982\u001b[0m \u001b[39mif\u001b[39;00m \u001b[39mgetattr\u001b[39m(other, \u001b[39m'\u001b[39m\u001b[39mis_Matrix\u001b[39m\u001b[39m'\u001b[39m, \u001b[39mFalse\u001b[39;00m):\n",
      "\u001b[0;31mShapeError\u001b[0m: Matrix size mismatch."
     ]
    }
   ],
   "source": [
    "import sympy as sp\n",
    "\n",
    "from lgs_exakt_qr import qr\n",
    "alpha = sp.var(\"alpha\")\n",
    "a = sp.Matrix([\n",
    "    [4, -alpha, ],\n",
    "    [-3, alpha, ],\n",
    "])\n",
    "\n",
    "b = sp.Matrix([\n",
    "    [1, ],\n",
    "    [-2, ],\n",
    "])\n",
    "b = sp.Matrix([9, -4, sp.var('z')])\n",
    "\n",
    "q, r, x = qr(a, b, precision=5, output=True)"
   ]
  }
 ],
 "metadata": {
  "kernelspec": {
   "display_name": "hm-scripts-lwuRK109",
   "language": "python",
   "name": "python3"
  },
  "language_info": {
   "codemirror_mode": {
    "name": "ipython",
    "version": 3
   },
   "file_extension": ".py",
   "mimetype": "text/x-python",
   "name": "python",
   "nbconvert_exporter": "python",
   "pygments_lexer": "ipython3",
   "version": "3.10.9"
  },
  "vscode": {
   "interpreter": {
    "hash": "30ba78cb2b325b4f7e68b2af073cd0979c38adcec94b7a163f854bda517ad64d"
   }
  }
 },
 "nbformat": 4,
 "nbformat_minor": 0
}
