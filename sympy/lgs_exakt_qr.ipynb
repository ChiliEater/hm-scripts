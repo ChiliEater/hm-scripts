{
 "cells": [
  {
   "cell_type": "code",
   "execution_count": 1,
   "outputs": [
    {
     "data": {
      "text/plain": "<IPython.core.display.Math object>",
      "text/latex": "$\\displaystyle A = \\left[\\begin{matrix}0 & -2 & 0\\\\2 & -1 & 1\\\\0 & -2 & 0\\end{matrix}\\right], \\quad b = \\left[\\begin{matrix}0\\\\0\\\\0\\end{matrix}\\right]$"
     },
     "metadata": {},
     "output_type": "display_data"
    },
    {
     "data": {
      "text/plain": "<IPython.core.display.Markdown object>",
      "text/markdown": "## QR-Zerlegung"
     },
     "metadata": {},
     "output_type": "display_data"
    },
    {
     "data": {
      "text/plain": "<IPython.core.display.Markdown object>",
      "text/markdown": "Iteration 1"
     },
     "metadata": {},
     "output_type": "display_data"
    },
    {
     "data": {
      "text/plain": "<IPython.core.display.Math object>",
      "text/latex": "$\\displaystyle A_1 = \\left[\\begin{matrix}0 & -2 & 0\\\\2 & -1 & 1\\\\0 & -2 & 0\\end{matrix}\\right] \\; \\rightarrow \\; a_1 = \\left[\\begin{matrix}0\\\\2\\\\0\\end{matrix}\\right]$"
     },
     "metadata": {},
     "output_type": "display_data"
    },
    {
     "data": {
      "text/plain": "<IPython.core.display.Math object>",
      "text/latex": "$\\displaystyle v_1 = \\left[\\begin{matrix}0\\\\2\\\\0\\end{matrix}\\right], \\; |v_1| = 2 \\approx 2.0$"
     },
     "metadata": {},
     "output_type": "display_data"
    },
    {
     "data": {
      "text/plain": "<IPython.core.display.Math object>",
      "text/latex": "$\\displaystyle u_1 = \\left[\\begin{matrix}0\\\\1.0\\\\0\\end{matrix}\\right] \\; \\rightarrow \\; u_1^T = \\left[\\begin{matrix}0 & 1.0 & 0\\end{matrix}\\right]$"
     },
     "metadata": {},
     "output_type": "display_data"
    },
    {
     "data": {
      "text/plain": "<IPython.core.display.Math object>",
      "text/latex": "$\\displaystyle H_1 = I_3 - 2 u_1 u_1^T = I_3 - 2 \\cdot \\left[\\begin{matrix}0 & 0 & 0\\\\0 & 1.0 & 0\\\\0 & 0 & 0\\end{matrix}\\right] = \\left[\\begin{matrix}1 & 0 & 0\\\\0 & -1.0 & 0\\\\0 & 0 & 1\\end{matrix}\\right]$"
     },
     "metadata": {},
     "output_type": "display_data"
    },
    {
     "data": {
      "text/plain": "<IPython.core.display.Math object>",
      "text/latex": "$\\displaystyle Q_1 = \\left[\\begin{matrix}1 & 0 & 0\\\\0 & -1.0 & 0\\\\0 & 0 & 1\\end{matrix}\\right] \\rightarrow Q = Q \\cdot Q_1^T = \\left[\\begin{matrix}1 & 0 & 0\\\\0 & -1.0 & 0\\\\0 & 0 & 1\\end{matrix}\\right], \\; R = Q_1 \\cdot R = \\left[\\begin{matrix}0 & -2 & 0\\\\0 & 1.0 & -1.0\\\\0 & -2 & 0\\end{matrix}\\right]$"
     },
     "metadata": {},
     "output_type": "display_data"
    },
    {
     "data": {
      "text/plain": "<IPython.core.display.Markdown object>",
      "text/markdown": "Iteration 2"
     },
     "metadata": {},
     "output_type": "display_data"
    },
    {
     "data": {
      "text/plain": "<IPython.core.display.Math object>",
      "text/latex": "$\\displaystyle A_2 = \\left[\\begin{matrix}1.0 & -1.0\\\\-2 & 0\\end{matrix}\\right] \\; \\rightarrow \\; a_2 = \\left[\\begin{matrix}1.0\\\\-2\\end{matrix}\\right]$"
     },
     "metadata": {},
     "output_type": "display_data"
    },
    {
     "data": {
      "text/plain": "<IPython.core.display.Math object>",
      "text/latex": "$\\displaystyle v_2 = \\left[\\begin{matrix}3.2361\\\\-2\\end{matrix}\\right], \\; |v_2| = 3.8042 \\approx 3.8042$"
     },
     "metadata": {},
     "output_type": "display_data"
    },
    {
     "data": {
      "text/plain": "<IPython.core.display.Math object>",
      "text/latex": "$\\displaystyle u_2 = \\left[\\begin{matrix}0.85065\\\\-0.52573\\end{matrix}\\right] \\; \\rightarrow \\; u_2^T = \\left[\\begin{matrix}0.85065 & -0.52573\\end{matrix}\\right]$"
     },
     "metadata": {},
     "output_type": "display_data"
    },
    {
     "data": {
      "text/plain": "<IPython.core.display.Math object>",
      "text/latex": "$\\displaystyle H_2 = I_2 - 2 u_2 u_2^T = I_2 - 2 \\cdot \\left[\\begin{matrix}0.72361 & -0.44721\\\\-0.44721 & 0.27639\\end{matrix}\\right] = \\left[\\begin{matrix}-0.44721 & 0.89443\\\\0.89443 & 0.44721\\end{matrix}\\right]$"
     },
     "metadata": {},
     "output_type": "display_data"
    },
    {
     "data": {
      "text/plain": "<IPython.core.display.Math object>",
      "text/latex": "$\\displaystyle Q_2 = \\left[\\begin{matrix}1 & 0 & 0\\\\0 & -0.44721 & 0.89443\\\\0 & 0.89443 & 0.44721\\end{matrix}\\right] \\rightarrow Q = Q \\cdot Q_2^T = \\left[\\begin{matrix}1 & 0 & 0\\\\0 & 0.44721 & -0.89443\\\\0 & 0.89443 & 0.44721\\end{matrix}\\right], \\; R = Q_2 \\cdot R = \\left[\\begin{matrix}0 & -2 & 0\\\\0 & -2.2361 & 0.44721\\\\0 & 0 & -0.89443\\end{matrix}\\right]$"
     },
     "metadata": {},
     "output_type": "display_data"
    },
    {
     "data": {
      "text/plain": "<IPython.core.display.Markdown object>",
      "text/markdown": "Resultat"
     },
     "metadata": {},
     "output_type": "display_data"
    },
    {
     "data": {
      "text/plain": "<IPython.core.display.Math object>",
      "text/latex": "$\\displaystyle Q = \\left[\\begin{matrix}1 & 0 & 0\\\\0 & 0.44721 & -0.89443\\\\0 & 0.89443 & 0.44721\\end{matrix}\\right], \\quad R = \\left[\\begin{matrix}0 & -2 & 0\\\\0 & -2.2361 & 0.44721\\\\0 & 0 & -0.89443\\end{matrix}\\right]$"
     },
     "metadata": {},
     "output_type": "display_data"
    },
    {
     "data": {
      "text/plain": "<IPython.core.display.Markdown object>",
      "text/markdown": "## Rückwärtseinsetzen"
     },
     "metadata": {},
     "output_type": "display_data"
    },
    {
     "data": {
      "text/plain": "<IPython.core.display.Math object>",
      "text/latex": "$\\displaystyle x_{3} = \\frac{0}{-0.89443} = 0$"
     },
     "metadata": {},
     "output_type": "display_data"
    },
    {
     "data": {
      "text/plain": "<IPython.core.display.Math object>",
      "text/latex": "$\\displaystyle x_{2} = \\frac{0}{-2.2361} = 0$"
     },
     "metadata": {},
     "output_type": "display_data"
    },
    {
     "data": {
      "text/plain": "<IPython.core.display.Math object>",
      "text/latex": "$\\displaystyle x_{1} = \\frac{0}{0} = \\text{NaN}$"
     },
     "metadata": {},
     "output_type": "display_data"
    },
    {
     "data": {
      "text/plain": "<IPython.core.display.Math object>",
      "text/latex": "$\\displaystyle x = \\left[\\begin{matrix}\\text{NaN}\\\\0\\\\0\\end{matrix}\\right]$"
     },
     "metadata": {},
     "output_type": "display_data"
    }
   ],
   "source": [
    "import sympy as sp\n",
    "\n",
    "from lgs_exakt_qr import qr\n",
    "\n",
    "a = sp.Matrix([\n",
    "    [1, 2, -1],\n",
    "    [4, -2, 6],\n",
    "    [3, 1, 0],\n",
    "])\n",
    "\n",
    "b = sp.Matrix([9, -4, sp.var('z')])\n",
    "\n",
    "a = sp.Matrix([\n",
    "    [0, -2, 0],\n",
    "    [2, -1, 1],\n",
    "    [0, -2, 0],\n",
    "])\n",
    "\n",
    "b = sp.Matrix([0, 0, 0])\n",
    "\n",
    "q, r, x = qr(a, b, precision=5, output=True)"
   ],
   "metadata": {
    "collapsed": false
   }
  }
 ],
 "metadata": {
  "kernelspec": {
   "display_name": "Python 3",
   "language": "python",
   "name": "python3"
  },
  "language_info": {
   "codemirror_mode": {
    "name": "ipython",
    "version": 2
   },
   "file_extension": ".py",
   "mimetype": "text/x-python",
   "name": "python",
   "nbconvert_exporter": "python",
   "pygments_lexer": "ipython2",
   "version": "2.7.6"
  }
 },
 "nbformat": 4,
 "nbformat_minor": 0
}
