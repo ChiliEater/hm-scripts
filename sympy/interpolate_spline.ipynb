{
 "cells": [
  {
   "cell_type": "code",
   "execution_count": 1,
   "metadata": {},
   "outputs": [
    {
     "data": {
      "text/plain": [
       "<module 'interpolate_spline' from '/home/florian/dev/github.com/thecodinglab/hm-scripts/sympy/interpolate_spline.py'>"
      ]
     },
     "execution_count": 1,
     "metadata": {},
     "output_type": "execute_result"
    }
   ],
   "source": [
    "import importlib\n",
    "import interpolate_spline\n",
    "importlib.reload(interpolate_spline)"
   ]
  },
  {
   "cell_type": "code",
   "execution_count": 2,
   "metadata": {},
   "outputs": [
    {
     "data": {
      "text/markdown": [
       "### Splines"
      ],
      "text/plain": [
       "<IPython.core.display.Markdown object>"
      ]
     },
     "metadata": {},
     "output_type": "display_data"
    },
    {
     "data": {
      "text/latex": [
       "$\\displaystyle S_{0} = a_{0} + b_{0} t + c_{0} t^{2} + d_{0} t^{3}$"
      ],
      "text/plain": [
       "<IPython.core.display.Math object>"
      ]
     },
     "metadata": {},
     "output_type": "display_data"
    },
    {
     "data": {
      "text/latex": [
       "$\\displaystyle S_{1} = a_{1} + b_{1} \\left(t - 1\\right) + c_{1} \\left(t - 1\\right)^{2} + d_{1} \\left(t - 1\\right)^{3}$"
      ],
      "text/plain": [
       "<IPython.core.display.Math object>"
      ]
     },
     "metadata": {},
     "output_type": "display_data"
    },
    {
     "data": {
      "text/latex": [
       "$\\displaystyle S_{2} = a_{2} + b_{2} \\left(t - 2\\right) + c_{2} \\left(t - 2\\right)^{2} + d_{2} \\left(t - 2\\right)^{3}$"
      ],
      "text/plain": [
       "<IPython.core.display.Math object>"
      ]
     },
     "metadata": {},
     "output_type": "display_data"
    },
    {
     "data": {
      "text/markdown": [
       "### Conditions"
      ],
      "text/plain": [
       "<IPython.core.display.Markdown object>"
      ]
     },
     "metadata": {},
     "output_type": "display_data"
    },
    {
     "data": {
      "text/markdown": [
       "#### Support points"
      ],
      "text/plain": [
       "<IPython.core.display.Markdown object>"
      ]
     },
     "metadata": {},
     "output_type": "display_data"
    },
    {
     "data": {
      "text/latex": [
       "$\\displaystyle S_{0}(0) = a_{0} = 2 \\quad \\Rightarrow \\quad a_{0} = 2$"
      ],
      "text/plain": [
       "<IPython.core.display.Math object>"
      ]
     },
     "metadata": {},
     "output_type": "display_data"
    },
    {
     "data": {
      "text/latex": [
       "$\\displaystyle S_{1}(1) = a_{1} = 1 \\quad \\Rightarrow \\quad a_{1} = 1$"
      ],
      "text/plain": [
       "<IPython.core.display.Math object>"
      ]
     },
     "metadata": {},
     "output_type": "display_data"
    },
    {
     "data": {
      "text/latex": [
       "$\\displaystyle S_{2}(2) = a_{2} = 2 \\quad \\Rightarrow \\quad a_{2} = 2$"
      ],
      "text/plain": [
       "<IPython.core.display.Math object>"
      ]
     },
     "metadata": {},
     "output_type": "display_data"
    },
    {
     "data": {
      "text/latex": [
       "$\\displaystyle S_{2}(3) = a_{2} + b_{2} + c_{2} + d_{2} = 2 \\quad \\Rightarrow \\quad a_{2} + b_{2} + c_{2} + d_{2} = 2$"
      ],
      "text/plain": [
       "<IPython.core.display.Math object>"
      ]
     },
     "metadata": {},
     "output_type": "display_data"
    },
    {
     "data": {
      "text/markdown": [
       "#### Continuity"
      ],
      "text/plain": [
       "<IPython.core.display.Markdown object>"
      ]
     },
     "metadata": {},
     "output_type": "display_data"
    },
    {
     "data": {
      "text/latex": [
       "$\\displaystyle S_{0}(1) = a_{0} + b_{0} + c_{0} + d_{0} = a_{1} = S_{1}(1) \\quad \\Rightarrow \\quad a_{0} + b_{0} + c_{0} + d_{0} = a_{1}$"
      ],
      "text/plain": [
       "<IPython.core.display.Math object>"
      ]
     },
     "metadata": {},
     "output_type": "display_data"
    },
    {
     "data": {
      "text/latex": [
       "$\\displaystyle S_{1}(2) = a_{1} + b_{1} + c_{1} + d_{1} = a_{2} = S_{2}(2) \\quad \\Rightarrow \\quad a_{1} + b_{1} + c_{1} + d_{1} = a_{2}$"
      ],
      "text/plain": [
       "<IPython.core.display.Math object>"
      ]
     },
     "metadata": {},
     "output_type": "display_data"
    },
    {
     "data": {
      "text/markdown": [
       "#### Continuity of derivatives"
      ],
      "text/plain": [
       "<IPython.core.display.Markdown object>"
      ]
     },
     "metadata": {},
     "output_type": "display_data"
    },
    {
     "data": {
      "text/latex": [
       "$\\displaystyle S_{0}'(1) = b_{0} + 2 c_{0} + 3 d_{0} = b_{1} = S_{1}'(1) \\quad \\Rightarrow \\quad b_{0} + 2 c_{0} + 3 d_{0} = b_{1}$"
      ],
      "text/plain": [
       "<IPython.core.display.Math object>"
      ]
     },
     "metadata": {},
     "output_type": "display_data"
    },
    {
     "data": {
      "text/latex": [
       "$\\displaystyle S_{1}'(2) = b_{1} + 2 c_{1} + 3 d_{1} = b_{2} = S_{2}'(2) \\quad \\Rightarrow \\quad b_{1} + 2 c_{1} + 3 d_{1} = b_{2}$"
      ],
      "text/plain": [
       "<IPython.core.display.Math object>"
      ]
     },
     "metadata": {},
     "output_type": "display_data"
    },
    {
     "data": {
      "text/markdown": [
       "#### Continuity of second derivatives"
      ],
      "text/plain": [
       "<IPython.core.display.Markdown object>"
      ]
     },
     "metadata": {},
     "output_type": "display_data"
    },
    {
     "data": {
      "text/latex": [
       "$\\displaystyle S_{0}'(1) = 2 c_{0} + 6 d_{0} = 2 c_{1} = S_{1}'(1) \\quad \\Rightarrow \\quad 2 c_{0} + 6 d_{0} = 2 c_{1}$"
      ],
      "text/plain": [
       "<IPython.core.display.Math object>"
      ]
     },
     "metadata": {},
     "output_type": "display_data"
    },
    {
     "data": {
      "text/latex": [
       "$\\displaystyle S_{1}'(2) = 2 c_{1} + 6 d_{1} = 2 c_{2} = S_{2}'(2) \\quad \\Rightarrow \\quad 2 c_{1} + 6 d_{1} = 2 c_{2}$"
      ],
      "text/plain": [
       "<IPython.core.display.Math object>"
      ]
     },
     "metadata": {},
     "output_type": "display_data"
    },
    {
     "data": {
      "text/markdown": [
       "#### Natural conditions"
      ],
      "text/plain": [
       "<IPython.core.display.Markdown object>"
      ]
     },
     "metadata": {},
     "output_type": "display_data"
    },
    {
     "data": {
      "text/latex": [
       "$\\displaystyle S_{0}'(0) = 2 c_{0} = 0 \\quad \\Rightarrow \\quad 2 c_{0} = 0$"
      ],
      "text/plain": [
       "<IPython.core.display.Math object>"
      ]
     },
     "metadata": {},
     "output_type": "display_data"
    },
    {
     "data": {
      "text/latex": [
       "$\\displaystyle S_{2}'(3) = 2 c_{2} + 6 d_{2} = 0 \\quad \\Rightarrow \\quad 2 c_{2} + 6 d_{2} = 0$"
      ],
      "text/plain": [
       "<IPython.core.display.Math object>"
      ]
     },
     "metadata": {},
     "output_type": "display_data"
    },
    {
     "data": {
      "text/markdown": [
       "### Spline"
      ],
      "text/plain": [
       "<IPython.core.display.Markdown object>"
      ]
     },
     "metadata": {},
     "output_type": "display_data"
    },
    {
     "data": {
      "text/latex": [
       "$\\displaystyle S(t) = \\begin{cases} \\frac{3 t^{3}}{5} - \\frac{8 t}{5} + 2 & \\text{for}\\: t < 1 \\\\\\frac{t}{5} - \\left(t - 1\\right)^{3} + \\frac{9 \\left(t - 1\\right)^{2}}{5} + \\frac{4}{5} & \\text{for}\\: t < 2 \\\\\\frac{4 t}{5} + \\frac{2 \\left(t - 2\\right)^{3}}{5} - \\frac{6 \\left(t - 2\\right)^{2}}{5} + \\frac{2}{5} & \\text{for}\\: t < 3 \\end{cases}$"
      ],
      "text/plain": [
       "<IPython.core.display.Math object>"
      ]
     },
     "metadata": {},
     "output_type": "display_data"
    }
   ],
   "source": [
    "import sympy as sp\n",
    "from interpolate_spline import spline\n",
    "\n",
    "data = sp.Matrix([\n",
    "    [0, 2],\n",
    "    [1, 1],\n",
    "    [2, 2],\n",
    "    [3, 2],\n",
    "])\n",
    "\n",
    "t = sp.Symbol('t')\n",
    "\n",
    "splines = spline(data, t, degree=3, precision=4)"
   ]
  },
  {
   "cell_type": "code",
   "execution_count": 3,
   "metadata": {},
   "outputs": [
    {
     "data": {
      "image/png": "[encoded data removed]",
      "text/plain": [
       "<Figure size 640x480 with 1 Axes>"
      ]
     },
     "metadata": {},
     "output_type": "display_data"
    }
   ],
   "source": [
    "import numpy as np\n",
    "import matplotlib.pyplot as plt\n",
    "import matplotlib.colors as colors\n",
    "\n",
    "np_data = np.array(data).astype(np.float64)\n",
    "data_x = np_data[:, 0]\n",
    "data_y = np_data[:, 1]\n",
    "\n",
    "slack = 1\n",
    "min_x = np.min(data_x) - slack\n",
    "max_x = np.max(data_x) + slack\n",
    "min_y = np.min(data_y) - slack\n",
    "max_y = np.max(data_y) + slack\n",
    "\n",
    "total = np.linspace(min_x, max_x, 100)\n",
    "\n",
    "ax = plt.gca()\n",
    "ax.autoscale(False)\n",
    "ax.set_xlim([min_x, max_x])\n",
    "ax.set_ylim([min_y, max_y])\n",
    "\n",
    "col = list(colors.TABLEAU_COLORS.keys())\n",
    "spline_funcs = [sp.lambdify(t, spline, 'numpy') for spline in splines]\n",
    "\n",
    "for i in range(len(spline_funcs)):\n",
    "    f = spline_funcs[i]\n",
    "    plt.plot(total, f(total), '--', color=col[i % len(col)], linewidth=1)\n",
    "\n",
    "for i in range(len(splines)):\n",
    "    x = np.linspace(data_x[i], data_x[i + 1], 100)\n",
    "    f = spline_funcs[i]\n",
    "    plt.plot(x, f(x), color=col[i % len(col)])\n",
    "\n",
    "\n",
    "plt.plot(data_x, data_y, 'o')\n",
    "plt.show()"
   ]
  }
 ],
 "metadata": {
  "kernelspec": {
   "display_name": "venv",
   "language": "python",
   "name": "python3"
  },
  "language_info": {
   "codemirror_mode": {
    "name": "ipython",
    "version": 3
   },
   "file_extension": ".py",
   "mimetype": "text/x-python",
   "name": "python",
   "nbconvert_exporter": "python",
   "pygments_lexer": "ipython3",
   "version": "3.11.3"
  },
  "orig_nbformat": 4
 },
 "nbformat": 4,
 "nbformat_minor": 2
}
