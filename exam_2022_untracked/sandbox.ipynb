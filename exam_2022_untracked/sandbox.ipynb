{
 "cells": [
  {
   "cell_type": "code",
   "execution_count": 33,
   "metadata": {},
   "outputs": [
    {
     "name": "stdout",
     "output_type": "stream",
     "text": [
      "K = 0.08976077337316268\n",
      "Fehlerfortpflanzung = 0.0029920257791054227\n"
     ]
    },
    {
     "name": "stderr",
     "output_type": "stream",
     "text": [
      "/tmp/ipykernel_7253/1524765039.py:10: RuntimeWarning: divide by zero encountered in log\n",
      "  fd = lambda x: (np.log(x) - 1) / (np.log(x)**2)\n",
      "/tmp/ipykernel_7253/1524765039.py:10: RuntimeWarning: divide by zero encountered in divide\n",
      "  fd = lambda x: (np.log(x) - 1) / (np.log(x)**2)\n",
      "/tmp/ipykernel_7253/1524765039.py:10: RuntimeWarning: invalid value encountered in divide\n",
      "  fd = lambda x: (np.log(x) - 1) / (np.log(x)**2)\n",
      "/tmp/ipykernel_7253/1524765039.py:9: RuntimeWarning: divide by zero encountered in log\n",
      "  f = lambda x: x / np.log(x)\n",
      "/tmp/ipykernel_7253/1524765039.py:9: RuntimeWarning: divide by zero encountered in divide\n",
      "  f = lambda x: x / np.log(x)\n",
      "/tmp/ipykernel_7253/1524765039.py:7: RuntimeWarning: invalid value encountered in divide\n",
      "  return abs(derivative(x)) * abs(x) / abs(func(x))\n"
     ]
    },
    {
     "data": {
      "image/png": "[encoded data removed]",
      "text/plain": [
       "<Figure size 640x480 with 1 Axes>"
      ]
     },
     "metadata": {},
     "output_type": "display_data"
    },
    {
     "name": "stdout",
     "output_type": "stream",
     "text": [
      "1000000.4999711609\n",
      "0.00010001500083337232\n"
     ]
    },
    {
     "ename": "NotImplementedError",
     "evalue": "solving Abs(x) when the argument is not real or imaginary.",
     "output_type": "error",
     "traceback": [
      "\u001b[0;31m---------------------------------------------------------------------------\u001b[0m",
      "\u001b[0;31mNotImplementedError\u001b[0m                       Traceback (most recent call last)",
      "Cell \u001b[0;32mIn[33], line 33\u001b[0m\n\u001b[1;32m     31\u001b[0m fd \u001b[39m=\u001b[39m sp\u001b[39m.\u001b[39mdiff(x)\n\u001b[1;32m     32\u001b[0m cond \u001b[39m=\u001b[39m (sp\u001b[39m.\u001b[39mAbs(fd) \u001b[39m*\u001b[39m sp\u001b[39m.\u001b[39mAbs(x)) \u001b[39m/\u001b[39m sp\u001b[39m.\u001b[39mAbs(f)\n\u001b[0;32m---> 33\u001b[0m \u001b[39mprint\u001b[39m(sp\u001b[39m.\u001b[39;49msolve(cond, x))\n",
      "File \u001b[0;32m~/.local/share/virtualenvs/hm-scripts-lwuRK109/lib/python3.10/site-packages/sympy/solvers/solvers.py:973\u001b[0m, in \u001b[0;36msolve\u001b[0;34m(f, *symbols, **flags)\u001b[0m\n\u001b[1;32m    971\u001b[0m \u001b[39mfor\u001b[39;00m e \u001b[39min\u001b[39;00m fi\u001b[39m.\u001b[39mfind(Abs):\n\u001b[1;32m    972\u001b[0m     \u001b[39mif\u001b[39;00m e\u001b[39m.\u001b[39mhas(\u001b[39m*\u001b[39msymbols):\n\u001b[0;32m--> 973\u001b[0m         \u001b[39mraise\u001b[39;00m \u001b[39mNotImplementedError\u001b[39;00m(\u001b[39m'\u001b[39m\u001b[39msolving \u001b[39m\u001b[39m%s\u001b[39;00m\u001b[39m when the argument \u001b[39m\u001b[39m'\u001b[39m\n\u001b[1;32m    974\u001b[0m             \u001b[39m'\u001b[39m\u001b[39mis not real or imaginary.\u001b[39m\u001b[39m'\u001b[39m \u001b[39m%\u001b[39m e)\n\u001b[1;32m    976\u001b[0m \u001b[39m# arg\u001b[39;00m\n\u001b[1;32m    977\u001b[0m fi \u001b[39m=\u001b[39m fi\u001b[39m.\u001b[39mreplace(arg, \u001b[39mlambda\u001b[39;00m a: arg(a)\u001b[39m.\u001b[39mrewrite(atan2)\u001b[39m.\u001b[39mrewrite(atan))\n",
      "\u001b[0;31mNotImplementedError\u001b[0m: solving Abs(x) when the argument is not real or imaginary."
     ]
    }
   ],
   "source": [
    "import numpy as np\n",
    "import matplotlib.pyplot as plt\n",
    "import sympy as sp\n",
    "\n",
    "# Calculates the condition of a given function\n",
    "def condition(func, derivative, x):\n",
    "    return abs(derivative(x)) * abs(x) / abs(func(x))\n",
    "\n",
    "f = lambda x: x / np.log(x)\n",
    "fd = lambda x: (np.log(x) - 1) / (np.log(x)**2)\n",
    "\n",
    "K = condition(f,fd,3)\n",
    "err = 0.1\n",
    "x = 3\n",
    "print(f'K = {K}')\n",
    "print(f'Fehlerfortpflanzung = {K*(err/x)}')\n",
    "\n",
    "x = np.arange(0,10+0.1,0.1)\n",
    "plt.figure()\n",
    "plt.plot(x, condition(f,fd,x))\n",
    "plt.grid()\n",
    "plt.xlim(0,10)\n",
    "plt.semilogy()\n",
    "plt.show()\n",
    "\n",
    "print(condition(f,fd,0.999999))\n",
    "print(np.abs(f(1.0001))/np.abs(fd(1.0001)))\n",
    "\n",
    "x = sp.var(\"x\")\n",
    "f = x / sp.ln(x)\n",
    "fd = sp.diff(x)\n",
    "cond = (sp.Abs(fd) * sp.Abs(x)) / sp.Abs(f)\n",
    "print(sp.solve(cond, x))\n",
    "\n"
   ]
  },
  {
   "cell_type": "code",
   "execution_count": 65,
   "metadata": {},
   "outputs": [
    {
     "name": "stdout",
     "output_type": "stream",
     "text": [
      "x = [ 2.3  1.   0.4 -1.7]\n"
     ]
    }
   ],
   "source": [
    "import numpy as np\n",
    "import matplotlib.pyplot as plt\n",
    "import sympy as sp\n",
    "\n",
    "alpha = 0.3\n",
    "a = np.array([\n",
    "    [1, alpha, 0, -alpha, ],\n",
    "    [alpha, 1, -alpha, 0, ],\n",
    "    [0, -alpha, 1, alpha, ],\n",
    "    [-alpha, 0, alpha, 1, ],\n",
    "], dtype=np.float64)\n",
    "\n",
    "b = np.array([\n",
    "    [2.3, ],\n",
    "    [-1.3, ],\n",
    "    [2.7, ],\n",
    "    [-1.7, ],\n",
    "], dtype=np.float64)\n",
    "\n",
    "x0 = np.array([\n",
    "    [-1, ],\n",
    "    [-1, ],\n",
    "    [1, ],\n",
    "    [-1, ],\n",
    "], dtype=np.float64)\n",
    "\n",
    "n = 1\n",
    "\n",
    "# Solve\n",
    "\n",
    "s = a.shape\n",
    "\n",
    "x = x0\n",
    "for _ in range(n):\n",
    "    x_new = np.zeros(s[0])\n",
    "    for i in range(s[0]):\n",
    "        x_new[i] = (1 / a[i, i]) * (b[i] - np.sum(a[i, :i] * x[:i]) - np.sum(a[i, i + 1:] * x[i + 1:]))\n",
    "    x = x_new\n",
    "\n",
    "# Output\n",
    "\n",
    "print(f'x = {x}')\n"
   ]
  },
  {
   "cell_type": "code",
   "execution_count": null,
   "metadata": {},
   "outputs": [],
   "source": [
    "alpha = 0.3\n",
    "a = np.array([\n",
    "    [1, alpha, 0, -alpha, ],\n",
    "    [alpha, 1, -alpha, 0, ],\n",
    "    [0, -alpha, 1, alpha, ],\n",
    "    [-alpha, 0, alpha, 1, ],\n",
    "], dtype=np.float64)\n",
    "\n",
    "b = np.array([\n",
    "    [2.3, ],\n",
    "    [-1.3, ],\n",
    "    [2.7, ],\n",
    "    [-1.7, ],\n",
    "], dtype=np.float64)\n",
    "\n",
    "x0 = np.array([\n",
    "    [-1, ],\n",
    "    [-1, ],\n",
    "    [1, ],\n",
    "    [-1, ],\n",
    "], dtype=np.float64)\n",
    "\n",
    "n = 1\n",
    "\n",
    "# Solve\n",
    "\n",
    "def err(func, x, error):\n",
    "    return func(x + error) * func(x - error)\n",
    "\n",
    "s = a.shape\n",
    "\n",
    "x = x0\n",
    "for _ in range(n):\n",
    "    x_new = np.zeros(s[0])\n",
    "    for i in range(s[0]):\n",
    "        x_new[i] = (1 / a[i, i]) * (b[i] - np.sum(a[i, :i] * x[:i]) - np.sum(a[i, i + 1:] * x[i + 1:]))\n",
    "    x = x_new\n",
    "\n",
    "\n",
    "# Output\n",
    "\n",
    "print(f'x = {x}')\n"
   ]
  },
  {
   "cell_type": "code",
   "execution_count": 86,
   "metadata": {},
   "outputs": [
    {
     "data": {
      "image/png": "[encoded data removed]",
      "text/latex": [
       "$\\displaystyle 18$"
      ],
      "text/plain": [
       "18"
      ]
     },
     "execution_count": 86,
     "metadata": {},
     "output_type": "execute_result"
    }
   ],
   "source": [
    "import numpy as np\n",
    "import matplotlib.pyplot as plt\n",
    "import sympy as sp\n",
    "\n",
    "alpha = sp.var(\"alpha\")\n",
    "A = sp.Matrix([\n",
    "    [4, -alpha, ],\n",
    "    [-3, alpha, ],\n",
    "])\n",
    "\n",
    "b = sp.Matrix([\n",
    "    [1, ],\n",
    "    [-2, ],\n",
    "])\n",
    "\n",
    "\n",
    "A_inv = 1 / (4*alpha - ((-3) * (-alpha))) * sp.Matrix([[alpha, alpha],[3,4]])\n",
    "\n",
    "def cond(matrix):\n",
    "    return matrix.norm(ord=1) * matrix.inv().norm(ord=1)\n",
    "\n",
    "print(cond(A.replace(alpha, 5)))"
   ]
  },
  {
   "cell_type": "code",
   "execution_count": 89,
   "metadata": {},
   "outputs": [
    {
     "name": "stdout",
     "output_type": "stream",
     "text": [
      "v_1 = [0.38411064 0.51214752 0.76822128], λ_1 = 4.967213114754099\n",
      "v_2 = [0.22485951 0.37476584 0.89943803], λ_2 = 5.51123595505618\n",
      "v_3 = [0.12038585 0.24077171 0.96308682], λ_3 = 5.811594202898551\n",
      "v_4 = [0.06172787 0.1440317  0.98764596], λ_4 = 5.935224386113463\n",
      "v_5 = [0.03112696 0.08300524 0.99606287], λ_5 = 5.979007428140812\n",
      "v_6 = [0.01560596 0.04681788 0.99878153], λ_6 = 5.993424257184607\n",
      "v_7 = [0.00780961 0.02603205 0.9996306 ], λ_7 = 5.997987327618337\n",
      "v_8 = [0.00390582 0.01432134 0.99988982], λ_8 = 5.999394868074459\n",
      "v_9 = [0.00195306 0.00781225 0.99996758], λ_9 = 5.999820720854742\n",
      "v_10 = [0.00097655 0.00423173 0.99999057], λ_10 = 5.999947548901907\n",
      "v_11 = [0.00048828 0.00227864 0.99999728], λ_11 = 5.9999848207662305\n",
      "v_12 = [0.00024414 0.0012207  0.99999923], λ_12 = 5.9999956488676744\n",
      "v_13 = [0.00012207 0.00065104 0.99999978], λ_13 = 5.9999987632041645\n",
      "v_14 = [0.00006104 0.00034587 0.99999994], λ_14 = 5.9999996510645195\n",
      "v_15 = [0.00003052 0.00018311 0.99999998], λ_15 = 5.999999902211133\n",
      "v_16 = [0.00001526 0.00009664 1.        ], λ_16 = 5.999999972758816\n",
      "v_17 = [0.00000763 0.00005086 1.        ], λ_17 = 5.999999992452407\n",
      "v_18 = [0.00000381 0.0000267  1.        ], λ_18 = 5.999999997919076\n",
      "v_19 = [0.00000191 0.00001399 1.        ], λ_19 = 5.999999999428838\n",
      "v_20 = [0.00000095 0.00000731 1.        ], λ_20 = 5.99999999984387\n",
      "v_21 = [0.00000048 0.00000381 1.        ], λ_21 = 5.999999999957481\n",
      "v_22 = [0.00000024 0.00000199 1.        ], λ_22 = 5.999999999988461\n",
      "v_23 = [0.00000012 0.00000103 1.        ], λ_23 = 5.999999999996878\n",
      "v_24 = [0.00000006 0.00000054 1.        ], λ_24 = 5.999999999999158\n",
      "v_25 = [0.00000003 0.00000028 1.        ], λ_25 = 5.999999999999774\n",
      "v_26 = [0.00000001 0.00000014 1.        ], λ_26 = 5.99999999999994\n",
      "v_27 = [0.00000001 0.00000007 1.        ], λ_27 = 5.999999999999984\n",
      "v_28 = [0.         0.00000004 1.        ], λ_28 = 5.999999999999996\n",
      "v_29 = [0.         0.00000002 1.        ], λ_29 = 5.999999999999998\n",
      "v_30 = [0.         0.00000001 1.        ], λ_30 = 5.999999999999999\n",
      "v_31 = [0.         0.00000001 1.        ], λ_31 = 6.0\n",
      "v_32 = [0. 0. 1.], λ_32 = 6.0\n",
      "v_33 = [0. 0. 1.], λ_33 = 6.0\n",
      "v_34 = [0. 0. 1.], λ_34 = 6.0\n",
      "v_35 = [0. 0. 1.], λ_35 = 6.0\n",
      "\n",
      "v = [0. 0. 1.], λ = 6.0\n"
     ]
    }
   ],
   "source": [
    "a = np.array([\n",
    "    [3, 0, 0, ],\n",
    "    [1, 3, 0, ],\n",
    "    [0, 0, 6, ],\n",
    "])\n",
    "x0 = np.array([1, 1, 1], dtype=np.float64)\n",
    "\n",
    "n = 35\n",
    "\n",
    "v = x0 / np.linalg.norm(x0, ord=2)\n",
    "\n",
    "for i in range(n):\n",
    "    v = a @ v\n",
    "    v = v / np.linalg.norm(v, ord=2)\n",
    "    print(f'v_{i + 1} = {v}, λ_{i + 1} = {(v.T @ a @ v) / (v.T @ v)}')\n",
    "\n",
    "print('')\n",
    "print(f'v = {v}, λ = {(v.T @ a @ v) / (v.T @ v)}')\n"
   ]
  }
 ],
 "metadata": {
  "kernelspec": {
   "display_name": "hm-scripts-lwuRK109",
   "language": "python",
   "name": "python3"
  },
  "language_info": {
   "codemirror_mode": {
    "name": "ipython",
    "version": 3
   },
   "file_extension": ".py",
   "mimetype": "text/x-python",
   "name": "python",
   "nbconvert_exporter": "python",
   "pygments_lexer": "ipython3",
   "version": "3.10.9"
  },
  "orig_nbformat": 4,
  "vscode": {
   "interpreter": {
    "hash": "30ba78cb2b325b4f7e68b2af073cd0979c38adcec94b7a163f854bda517ad64d"
   }
  }
 },
 "nbformat": 4,
 "nbformat_minor": 2
}
