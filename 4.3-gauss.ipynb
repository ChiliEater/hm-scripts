{
 "cells": [
  {
   "cell_type": "code",
   "execution_count": 1,
   "metadata": {
    "collapsed": true
   },
   "outputs": [],
   "source": [
    "import sympy as sp\n",
    "import IPython.display as dp\n",
    "\n",
    "from util.sympy.linalg import backwards_substitution, pivot\n",
    "\n",
    "\n",
    "def gauss(a: sp.Matrix, b: sp.Matrix, pivoting: bool = False) -> sp.Matrix:\n",
    "    dp.display(dp.Math(f'A = {sp.latex(a)}, \\quad b = {sp.latex(b)}'))\n",
    "\n",
    "    dp.display(dp.Markdown('## Gauss'))\n",
    "\n",
    "    n = len(b)\n",
    "    u = a.copy()\n",
    "    b = b.copy()\n",
    "\n",
    "    for k in range(n - 1):\n",
    "        if u[k, k].is_zero or pivoting:\n",
    "            pivot(u, b, k)\n",
    "\n",
    "        for i in range(k + 1, n):\n",
    "            if not u[i, k].is_zero:\n",
    "                factor = u[i, k] / u[k, k]\n",
    "                u[i, k:n] -= factor * u[k, k:n]\n",
    "                b[i] -= factor * b[k]\n",
    "\n",
    "                dp.display(dp.Math(\n",
    "                    f'z_{{{i + 1}}} \\\\equiv z_{{{i + 1}}} - ({sp.latex(factor)}) \\\\cdot z_{{{k + 1}}} \\\\Rightarrow ' + sp.latex(\n",
    "                        u) + ' \\\\; ' + sp.latex(b)))\n",
    "\n",
    "    dp.display(dp.Markdown('## Rückwärtseinsetzen'))\n",
    "    x = backwards_substitution(u, b, symbol='x')\n",
    "    dp.display(dp.Math('x = ' + sp.latex(x)))\n",
    "    return x\n"
   ]
  },
  {
   "cell_type": "code",
   "execution_count": 2,
   "outputs": [
    {
     "data": {
      "text/plain": "<IPython.core.display.Math object>",
      "text/latex": "$\\displaystyle A = \\left[\\begin{matrix}-1 & 1 & 1\\\\1 & -3 & -2\\\\5 & 1 & 4\\end{matrix}\\right], \\quad b = \\left[\\begin{matrix}0\\\\5\\\\3\\end{matrix}\\right]$"
     },
     "metadata": {},
     "output_type": "display_data"
    },
    {
     "data": {
      "text/plain": "<IPython.core.display.Markdown object>",
      "text/markdown": "## Gauss"
     },
     "metadata": {},
     "output_type": "display_data"
    },
    {
     "data": {
      "text/plain": "<IPython.core.display.Math object>",
      "text/latex": "$\\displaystyle z_{2} \\equiv z_{2} - (-1) \\cdot z_{1} \\Rightarrow \\left[\\begin{matrix}-1 & 1 & 1\\\\0 & -2 & -1\\\\5 & 1 & 4\\end{matrix}\\right] \\; \\left[\\begin{matrix}0\\\\5\\\\3\\end{matrix}\\right]$"
     },
     "metadata": {},
     "output_type": "display_data"
    },
    {
     "data": {
      "text/plain": "<IPython.core.display.Math object>",
      "text/latex": "$\\displaystyle z_{3} \\equiv z_{3} - (-5) \\cdot z_{1} \\Rightarrow \\left[\\begin{matrix}-1 & 1 & 1\\\\0 & -2 & -1\\\\0 & 6 & 9\\end{matrix}\\right] \\; \\left[\\begin{matrix}0\\\\5\\\\3\\end{matrix}\\right]$"
     },
     "metadata": {},
     "output_type": "display_data"
    },
    {
     "data": {
      "text/plain": "<IPython.core.display.Math object>",
      "text/latex": "$\\displaystyle z_{3} \\equiv z_{3} - (-3) \\cdot z_{2} \\Rightarrow \\left[\\begin{matrix}-1 & 1 & 1\\\\0 & -2 & -1\\\\0 & 0 & 6\\end{matrix}\\right] \\; \\left[\\begin{matrix}0\\\\5\\\\18\\end{matrix}\\right]$"
     },
     "metadata": {},
     "output_type": "display_data"
    },
    {
     "data": {
      "text/plain": "<IPython.core.display.Markdown object>",
      "text/markdown": "## Rückwärtseinsetzen"
     },
     "metadata": {},
     "output_type": "display_data"
    },
    {
     "data": {
      "text/plain": "<IPython.core.display.Math object>",
      "text/latex": "$\\displaystyle x_{2} = \\frac{18}{6} = 3$"
     },
     "metadata": {},
     "output_type": "display_data"
    },
    {
     "data": {
      "text/plain": "<IPython.core.display.Math object>",
      "text/latex": "$\\displaystyle x_{1} = \\frac{5 - (-3)}{-2} = \\frac{8}{-2} = -4$"
     },
     "metadata": {},
     "output_type": "display_data"
    },
    {
     "data": {
      "text/plain": "<IPython.core.display.Math object>",
      "text/latex": "$\\displaystyle x_{0} = \\frac{0 - (-1)}{-1} = \\frac{1}{-1} = -1$"
     },
     "metadata": {},
     "output_type": "display_data"
    },
    {
     "data": {
      "text/plain": "<IPython.core.display.Math object>",
      "text/latex": "$\\displaystyle x = \\left[\\begin{matrix}-1\\\\-4\\\\3\\end{matrix}\\right]$"
     },
     "metadata": {},
     "output_type": "display_data"
    }
   ],
   "source": [
    "a = sp.Matrix([\n",
    "    [-1, 1, 1],\n",
    "    [1, -3, -2],\n",
    "    [5, 1, 4],\n",
    "])\n",
    "\n",
    "b = sp.Matrix([0, 5, 3])\n",
    "\n",
    "_ = gauss(a, b)\n",
    "\n",
    "# TODO fehlerfortpflanzung"
   ],
   "metadata": {
    "collapsed": false
   }
  }
 ],
 "metadata": {
  "kernelspec": {
   "display_name": "Python 3",
   "language": "python",
   "name": "python3"
  },
  "language_info": {
   "codemirror_mode": {
    "name": "ipython",
    "version": 2
   },
   "file_extension": ".py",
   "mimetype": "text/x-python",
   "name": "python",
   "nbconvert_exporter": "python",
   "pygments_lexer": "ipython2",
   "version": "2.7.6"
  }
 },
 "nbformat": 4,
 "nbformat_minor": 0
}
