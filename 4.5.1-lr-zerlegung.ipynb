{
 "cells": [
  {
   "cell_type": "markdown",
   "source": [
    "# LR-Zerlegung\n",
    "\n",
    "$Ax = b \\Rightarrow LRx = b \\Rightarrow Ly = b \\land Rx = y$"
   ],
   "metadata": {
    "collapsed": false
   }
  },
  {
   "cell_type": "code",
   "execution_count": 1,
   "outputs": [],
   "source": [
    "import sympy as sp\n",
    "import IPython.display as dp\n",
    "\n",
    "from util.sympy.linalg import backwards_substitution, forwards_substitution, pivot\n",
    "\n",
    "\n",
    "def lu_decompose(a: sp.Matrix, pivoting: bool = False) -> (sp.Matrix, sp.Matrix, sp.Matrix):\n",
    "    n = a.rows\n",
    "\n",
    "    l = sp.eye(n)\n",
    "    u = a.copy()\n",
    "    perm = sp.eye(n)\n",
    "\n",
    "    for k in range(n - 1):\n",
    "        if u[k, k].is_zero or pivoting:\n",
    "            pivot(u, perm, k)\n",
    "\n",
    "        for i in range(k + 1, n):\n",
    "            if not u[i, k].is_zero:\n",
    "                factor = u[i, k] / u[k, k]\n",
    "                u[i, k:n] -= factor * u[k, k:n]\n",
    "                l[i, k] = factor\n",
    "\n",
    "                dp.display(dp.Math(\n",
    "                    f'z_{{{i + 1}}} \\\\equiv z_{{{i + 1}}} - ({sp.latex(factor)}) \\cdot z_{{{k + 1}}} \\Rightarrow R_{k + i} = ' + sp.latex(\n",
    "                        u)))\n",
    "\n",
    "    dp.display(dp.Math(f'L = {sp.latex(l)}, \\quad R = {sp.latex(u)}, \\quad P = {sp.latex(perm)}'))\n",
    "    return l, u, perm\n",
    "\n",
    "\n",
    "def lu(a: sp.Matrix, b: sp.Matrix, pivoting: bool = False):\n",
    "    dp.display(dp.Math(f'A = {sp.latex(a)}, \\quad b = {sp.latex(b)}'))\n",
    "\n",
    "    dp.display(dp.Markdown('## LR-Zerlegung'))\n",
    "    l, u, perm = lu_decompose(a, pivoting)\n",
    "\n",
    "    dp.display(dp.Markdown('## Vorwärtseinsetzen'))\n",
    "\n",
    "    if perm != sp.eye(b.rows):\n",
    "        dp.display(dp.Math(\n",
    "            f'Ly = Pb: {sp.latex(l)} y = {sp.latex(perm)} {sp.latex(b)} = {sp.latex(perm @ b)}'))\n",
    "    else:\n",
    "        dp.display(dp.Math(\n",
    "            f'Ly = b: {sp.latex(l)} y = {sp.latex(b)}'))\n",
    "\n",
    "    y = forwards_substitution(l, perm @ b, symbol='y')\n",
    "    dp.display(dp.Math('y = ' + sp.latex(y)))\n",
    "\n",
    "    dp.display(dp.Markdown('## Rückwärtseinsetzen'))\n",
    "    dp.display(dp.Math(f'Rx = y: {sp.latex(u)} x = {sp.latex(y)}'))\n",
    "    x = backwards_substitution(u, y, symbol='x')\n",
    "    dp.display(dp.Math('x = ' + sp.latex(x)))\n",
    "    return x\n"
   ],
   "metadata": {
    "collapsed": false
   }
  },
  {
   "cell_type": "markdown",
   "source": [],
   "metadata": {
    "collapsed": false
   }
  },
  {
   "cell_type": "code",
   "execution_count": 2,
   "outputs": [
    {
     "data": {
      "text/plain": "<IPython.core.display.Math object>",
      "text/latex": "$\\displaystyle A = \\left[\\begin{matrix}-1 & 1 & 1\\\\1 & -3 & -2\\\\5 & 1 & 4\\end{matrix}\\right], \\quad b = \\left[\\begin{matrix}0\\\\5\\\\3\\end{matrix}\\right]$"
     },
     "metadata": {},
     "output_type": "display_data"
    },
    {
     "data": {
      "text/plain": "<IPython.core.display.Markdown object>",
      "text/markdown": "## LR-Zerlegung"
     },
     "metadata": {},
     "output_type": "display_data"
    },
    {
     "data": {
      "text/plain": "<IPython.core.display.Math object>",
      "text/latex": "$\\displaystyle z_{2} \\equiv z_{2} - (-1) \\cdot z_{1} \\Rightarrow R_1 = \\left[\\begin{matrix}-1 & 1 & 1\\\\0 & -2 & -1\\\\5 & 1 & 4\\end{matrix}\\right]$"
     },
     "metadata": {},
     "output_type": "display_data"
    },
    {
     "data": {
      "text/plain": "<IPython.core.display.Math object>",
      "text/latex": "$\\displaystyle z_{3} \\equiv z_{3} - (-5) \\cdot z_{1} \\Rightarrow R_2 = \\left[\\begin{matrix}-1 & 1 & 1\\\\0 & -2 & -1\\\\0 & 6 & 9\\end{matrix}\\right]$"
     },
     "metadata": {},
     "output_type": "display_data"
    },
    {
     "data": {
      "text/plain": "<IPython.core.display.Math object>",
      "text/latex": "$\\displaystyle z_{3} \\equiv z_{3} - (-3) \\cdot z_{2} \\Rightarrow R_3 = \\left[\\begin{matrix}-1 & 1 & 1\\\\0 & -2 & -1\\\\0 & 0 & 6\\end{matrix}\\right]$"
     },
     "metadata": {},
     "output_type": "display_data"
    },
    {
     "data": {
      "text/plain": "<IPython.core.display.Math object>",
      "text/latex": "$\\displaystyle L = \\left[\\begin{matrix}1 & 0 & 0\\\\-1 & 1 & 0\\\\-5 & -3 & 1\\end{matrix}\\right], \\quad R = \\left[\\begin{matrix}-1 & 1 & 1\\\\0 & -2 & -1\\\\0 & 0 & 6\\end{matrix}\\right], \\quad P = \\left[\\begin{matrix}1 & 0 & 0\\\\0 & 1 & 0\\\\0 & 0 & 1\\end{matrix}\\right]$"
     },
     "metadata": {},
     "output_type": "display_data"
    },
    {
     "data": {
      "text/plain": "<IPython.core.display.Markdown object>",
      "text/markdown": "## Vorwärtseinsetzen"
     },
     "metadata": {},
     "output_type": "display_data"
    },
    {
     "data": {
      "text/plain": "<IPython.core.display.Math object>",
      "text/latex": "$\\displaystyle Ly = b: \\left[\\begin{matrix}1 & 0 & 0\\\\-1 & 1 & 0\\\\-5 & -3 & 1\\end{matrix}\\right] y = \\left[\\begin{matrix}0\\\\5\\\\3\\end{matrix}\\right]$"
     },
     "metadata": {},
     "output_type": "display_data"
    },
    {
     "data": {
      "text/plain": "<IPython.core.display.Math object>",
      "text/latex": "$\\displaystyle y_{0} = \\frac{0}{1} = 0$"
     },
     "metadata": {},
     "output_type": "display_data"
    },
    {
     "data": {
      "text/plain": "<IPython.core.display.Math object>",
      "text/latex": "$\\displaystyle y_{1} = \\frac{5}{1} = 5$"
     },
     "metadata": {},
     "output_type": "display_data"
    },
    {
     "data": {
      "text/plain": "<IPython.core.display.Math object>",
      "text/latex": "$\\displaystyle y_{2} = \\frac{3 - (-15)}{1} = \\frac{18}{1} = 18$"
     },
     "metadata": {},
     "output_type": "display_data"
    },
    {
     "data": {
      "text/plain": "<IPython.core.display.Math object>",
      "text/latex": "$\\displaystyle y = \\left[\\begin{matrix}0\\\\5\\\\18\\end{matrix}\\right]$"
     },
     "metadata": {},
     "output_type": "display_data"
    },
    {
     "data": {
      "text/plain": "<IPython.core.display.Markdown object>",
      "text/markdown": "## Rückwärtseinsetzen"
     },
     "metadata": {},
     "output_type": "display_data"
    },
    {
     "data": {
      "text/plain": "<IPython.core.display.Math object>",
      "text/latex": "$\\displaystyle Rx = y: \\left[\\begin{matrix}-1 & 1 & 1\\\\0 & -2 & -1\\\\0 & 0 & 6\\end{matrix}\\right] x = \\left[\\begin{matrix}0\\\\5\\\\18\\end{matrix}\\right]$"
     },
     "metadata": {},
     "output_type": "display_data"
    },
    {
     "data": {
      "text/plain": "<IPython.core.display.Math object>",
      "text/latex": "$\\displaystyle x_{2} = \\frac{18}{6} = 3$"
     },
     "metadata": {},
     "output_type": "display_data"
    },
    {
     "data": {
      "text/plain": "<IPython.core.display.Math object>",
      "text/latex": "$\\displaystyle x_{1} = \\frac{5 - (-3)}{-2} = \\frac{8}{-2} = -4$"
     },
     "metadata": {},
     "output_type": "display_data"
    },
    {
     "data": {
      "text/plain": "<IPython.core.display.Math object>",
      "text/latex": "$\\displaystyle x_{0} = \\frac{0 - (-1)}{-1} = \\frac{1}{-1} = -1$"
     },
     "metadata": {},
     "output_type": "display_data"
    },
    {
     "data": {
      "text/plain": "<IPython.core.display.Math object>",
      "text/latex": "$\\displaystyle x = \\left[\\begin{matrix}-1\\\\-4\\\\3\\end{matrix}\\right]$"
     },
     "metadata": {},
     "output_type": "display_data"
    }
   ],
   "source": [
    "a = sp.Matrix([\n",
    "    [-1, 1, 1],\n",
    "    [1, -3, -2],\n",
    "    [5, 1, 4],\n",
    "])\n",
    "\n",
    "b = sp.Matrix([0, 5, 3])\n",
    "\n",
    "_ = lu(a, b)\n",
    "\n",
    "# TODO solve with column containing all zeros"
   ],
   "metadata": {
    "collapsed": false
   }
  }
 ],
 "metadata": {
  "kernelspec": {
   "display_name": "Python 3",
   "language": "python",
   "name": "python3"
  },
  "language_info": {
   "codemirror_mode": {
    "name": "ipython",
    "version": 2
   },
   "file_extension": ".py",
   "mimetype": "text/x-python",
   "name": "python",
   "nbconvert_exporter": "python",
   "pygments_lexer": "ipython2",
   "version": "2.7.6"
  }
 },
 "nbformat": 4,
 "nbformat_minor": 0
}
