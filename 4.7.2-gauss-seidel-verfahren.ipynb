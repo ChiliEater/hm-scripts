{
 "cells": [
  {
   "cell_type": "markdown",
   "source": [
    "# Jacobi Verfahren"
   ],
   "metadata": {
    "collapsed": false
   }
  },
  {
   "cell_type": "code",
   "execution_count": 1,
   "outputs": [],
   "source": [
    "import sympy as sp\n",
    "import IPython.display as dp\n",
    "\n",
    "from util.sympy.linalg import backwards_substitution, forwards_substitution, pivot\n",
    "\n",
    "\n",
    "def gauss_seidel_iterate(a: sp.Matrix, b: sp.Matrix, x: sp.Matrix, precision: int = -1) -> sp.Matrix:\n",
    "    res = sp.Matrix(x)\n",
    "\n",
    "    for i in range(a.rows):\n",
    "        s = 0\n",
    "        s_expr = ''\n",
    "\n",
    "        for j in range(a.cols):\n",
    "            if i != j:\n",
    "                s += a[i, j] * res[j]\n",
    "                s_expr += f' + ({sp.latex(a[i, j])} \\\\cdot {sp.latex(res[j])})'\n",
    "\n",
    "        res[i] = (1 / a[i, i]) * (b[i] - s)\n",
    "        if precision != -1:\n",
    "            res[i] = res[i].evalf(precision)\n",
    "\n",
    "        dp.display(dp.Math(\n",
    "            f'x_{{ {i} }} = \\\\frac{{ {sp.latex(b[i])} }}{{ {sp.latex(a[i, i])} }} - \\\\frac{{ {s_expr[3:]} }}{{ {sp.latex(a[i, i])} }} = {sp.latex(res[i])}'))\n",
    "\n",
    "    return res\n",
    "\n",
    "\n",
    "def gauss_seidel(a: sp.Matrix, b: sp.Matrix, x0: sp.Matrix, n: int = 100, precision: int = -1) -> sp.Matrix:\n",
    "    x = x0\n",
    "    for i in range(n):\n",
    "        dp.display(dp.Latex(f'Iteration {i + 1}'))\n",
    "        x = gauss_seidel_iterate(a, b, x, precision)\n",
    "    return x"
   ],
   "metadata": {
    "collapsed": false
   }
  },
  {
   "cell_type": "markdown",
   "source": [],
   "metadata": {
    "collapsed": false
   }
  },
  {
   "cell_type": "code",
   "execution_count": 2,
   "outputs": [
    {
     "data": {
      "text/plain": "<IPython.core.display.Latex object>",
      "text/latex": "Iteration 1"
     },
     "metadata": {},
     "output_type": "display_data"
    },
    {
     "data": {
      "text/plain": "<IPython.core.display.Math object>",
      "text/latex": "$\\displaystyle x_{ 0 } = \\frac{ 5 }{ 4 } - \\frac{ (-1 \\cdot 0) + (1 \\cdot 0) }{ 4 } = 1.25$"
     },
     "metadata": {},
     "output_type": "display_data"
    },
    {
     "data": {
      "text/plain": "<IPython.core.display.Math object>",
      "text/latex": "$\\displaystyle x_{ 1 } = \\frac{ 11 }{ 5 } - \\frac{ (-2 \\cdot 1.25) + (1 \\cdot 0) }{ 5 } = 2.7$"
     },
     "metadata": {},
     "output_type": "display_data"
    },
    {
     "data": {
      "text/plain": "<IPython.core.display.Math object>",
      "text/latex": "$\\displaystyle x_{ 2 } = \\frac{ 12 }{ 5 } - \\frac{ (1 \\cdot 1.25) + (-2 \\cdot 2.7) }{ 5 } = 3.23$"
     },
     "metadata": {},
     "output_type": "display_data"
    },
    {
     "data": {
      "text/plain": "<IPython.core.display.Latex object>",
      "text/latex": "Iteration 2"
     },
     "metadata": {},
     "output_type": "display_data"
    },
    {
     "data": {
      "text/plain": "<IPython.core.display.Math object>",
      "text/latex": "$\\displaystyle x_{ 0 } = \\frac{ 5 }{ 4 } - \\frac{ (-1 \\cdot 2.7) + (1 \\cdot 3.23) }{ 4 } = 1.1175$"
     },
     "metadata": {},
     "output_type": "display_data"
    },
    {
     "data": {
      "text/plain": "<IPython.core.display.Math object>",
      "text/latex": "$\\displaystyle x_{ 1 } = \\frac{ 11 }{ 5 } - \\frac{ (-2 \\cdot 1.1175) + (1 \\cdot 3.23) }{ 5 } = 2.001$"
     },
     "metadata": {},
     "output_type": "display_data"
    },
    {
     "data": {
      "text/plain": "<IPython.core.display.Math object>",
      "text/latex": "$\\displaystyle x_{ 2 } = \\frac{ 12 }{ 5 } - \\frac{ (1 \\cdot 1.1175) + (-2 \\cdot 2.001) }{ 5 } = 2.9769$"
     },
     "metadata": {},
     "output_type": "display_data"
    },
    {
     "data": {
      "text/plain": "<IPython.core.display.Latex object>",
      "text/latex": "Iteration 3"
     },
     "metadata": {},
     "output_type": "display_data"
    },
    {
     "data": {
      "text/plain": "<IPython.core.display.Math object>",
      "text/latex": "$\\displaystyle x_{ 0 } = \\frac{ 5 }{ 4 } - \\frac{ (-1 \\cdot 2.001) + (1 \\cdot 2.9769) }{ 4 } = 1.00602$"
     },
     "metadata": {},
     "output_type": "display_data"
    },
    {
     "data": {
      "text/plain": "<IPython.core.display.Math object>",
      "text/latex": "$\\displaystyle x_{ 1 } = \\frac{ 11 }{ 5 } - \\frac{ (-2 \\cdot 1.00602) + (1 \\cdot 2.9769) }{ 5 } = 2.00703$"
     },
     "metadata": {},
     "output_type": "display_data"
    },
    {
     "data": {
      "text/plain": "<IPython.core.display.Math object>",
      "text/latex": "$\\displaystyle x_{ 2 } = \\frac{ 12 }{ 5 } - \\frac{ (1 \\cdot 1.00602) + (-2 \\cdot 2.00703) }{ 5 } = 3.00161$"
     },
     "metadata": {},
     "output_type": "display_data"
    },
    {
     "data": {
      "text/plain": "<IPython.core.display.Latex object>",
      "text/latex": "Iteration 4"
     },
     "metadata": {},
     "output_type": "display_data"
    },
    {
     "data": {
      "text/plain": "<IPython.core.display.Math object>",
      "text/latex": "$\\displaystyle x_{ 0 } = \\frac{ 5 }{ 4 } - \\frac{ (-1 \\cdot 2.00703) + (1 \\cdot 3.00161) }{ 4 } = 1.00136$"
     },
     "metadata": {},
     "output_type": "display_data"
    },
    {
     "data": {
      "text/plain": "<IPython.core.display.Math object>",
      "text/latex": "$\\displaystyle x_{ 1 } = \\frac{ 11 }{ 5 } - \\frac{ (-2 \\cdot 1.00136) + (1 \\cdot 3.00161) }{ 5 } = 2.00022$"
     },
     "metadata": {},
     "output_type": "display_data"
    },
    {
     "data": {
      "text/plain": "<IPython.core.display.Math object>",
      "text/latex": "$\\displaystyle x_{ 2 } = \\frac{ 12 }{ 5 } - \\frac{ (1 \\cdot 1.00136) + (-2 \\cdot 2.00022) }{ 5 } = 2.99982$"
     },
     "metadata": {},
     "output_type": "display_data"
    },
    {
     "data": {
      "text/plain": "<IPython.core.display.Latex object>",
      "text/latex": "Iteration 5"
     },
     "metadata": {},
     "output_type": "display_data"
    },
    {
     "data": {
      "text/plain": "<IPython.core.display.Math object>",
      "text/latex": "$\\displaystyle x_{ 0 } = \\frac{ 5 }{ 4 } - \\frac{ (-1 \\cdot 2.00022) + (1 \\cdot 2.99982) }{ 4 } = 1.0001$"
     },
     "metadata": {},
     "output_type": "display_data"
    },
    {
     "data": {
      "text/plain": "<IPython.core.display.Math object>",
      "text/latex": "$\\displaystyle x_{ 1 } = \\frac{ 11 }{ 5 } - \\frac{ (-2 \\cdot 1.0001) + (1 \\cdot 2.99982) }{ 5 } = 2.00008$"
     },
     "metadata": {},
     "output_type": "display_data"
    },
    {
     "data": {
      "text/plain": "<IPython.core.display.Math object>",
      "text/latex": "$\\displaystyle x_{ 2 } = \\frac{ 12 }{ 5 } - \\frac{ (1 \\cdot 1.0001) + (-2 \\cdot 2.00008) }{ 5 } = 3.00001$"
     },
     "metadata": {},
     "output_type": "display_data"
    },
    {
     "name": "stdout",
     "output_type": "stream",
     "text": [
      "Matrix([[1.00010108947754], [2.00007677078247], [3.00001049041748]])\n"
     ]
    }
   ],
   "source": [
    "a = sp.Matrix([\n",
    "    [4, -1, 1],\n",
    "    [-2, 5, 1],\n",
    "    [1, -2, 5],\n",
    "])\n",
    "\n",
    "b = sp.Matrix([5, 11, 12])\n",
    "x0 = sp.Matrix([0, 0, 0])\n",
    "\n",
    "x = gauss_seidel(a, b, x0, 5, precision=6).evalf()\n",
    "print(x)"
   ],
   "metadata": {
    "collapsed": false
   }
  }
 ],
 "metadata": {
  "kernelspec": {
   "display_name": "Python 3",
   "language": "python",
   "name": "python3"
  },
  "language_info": {
   "codemirror_mode": {
    "name": "ipython",
    "version": 2
   },
   "file_extension": ".py",
   "mimetype": "text/x-python",
   "name": "python",
   "nbconvert_exporter": "python",
   "pygments_lexer": "ipython2",
   "version": "2.7.6"
  }
 },
 "nbformat": 4,
 "nbformat_minor": 0
}
