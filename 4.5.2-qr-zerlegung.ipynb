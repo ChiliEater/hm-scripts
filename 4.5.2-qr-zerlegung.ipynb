{
 "cells": [
  {
   "cell_type": "markdown",
   "source": [
    "# QR-Zerlegung"
   ],
   "metadata": {
    "collapsed": false
   }
  },
  {
   "cell_type": "code",
   "execution_count": 1,
   "outputs": [],
   "source": [
    "import sympy as sp\n",
    "import IPython.display as dp\n",
    "\n",
    "from util.sympy.linalg import backwards_substitution, forwards_substitution, pivot\n",
    "\n",
    "\n",
    "def magnitude(x: sp.Matrix) -> sp.Number:\n",
    "    s = 0\n",
    "    for i in range(len(x)):\n",
    "        s += x[i] ** 2\n",
    "\n",
    "    return sp.sqrt(s)\n",
    "\n",
    "\n",
    "def gen_householder_matrix(a: sp.Matrix, i: int, precision: int = -1) -> sp.Matrix:\n",
    "    ai = a[:, 0]\n",
    "    ei = sp.eye(ai.rows)[:, 0]\n",
    "\n",
    "    v = ai + sp.sign(ai[0]) * magnitude(ai) * ei\n",
    "    u = (1 / magnitude(v)) * v\n",
    "\n",
    "    if precision == -1:\n",
    "        u = sp.simplify(u)\n",
    "    else:\n",
    "        u = u.evalf(precision)\n",
    "\n",
    "    h = sp.eye(ai.rows) - 2 * (u @ sp.transpose(u))\n",
    "    if precision == -1:\n",
    "        h = sp.simplify(h)\n",
    "\n",
    "    v_str = f'v_{i + 1} = {sp.latex(v)}, \\\\; |v_i| = {sp.latex(magnitude(v))} '\n",
    "    if precision == -1:\n",
    "        v_str += '= ' + sp.latex(sp.simplify(magnitude(v)))\n",
    "    else:\n",
    "        v_str += '\\\\approx ' + sp.latex(magnitude(v).evalf(precision))\n",
    "\n",
    "    dp.display(dp.Math(f'A_{i + 1} = {sp.latex(a)} \\\\; \\\\rightarrow \\\\; a_i = {sp.latex(ai)}'))\n",
    "    dp.display(dp.Math(v_str))\n",
    "    dp.display(dp.Math(f'u_{i + 1} = {sp.latex(u)} \\\\; \\\\rightarrow \\\\; u_{i + 1}^T = {sp.latex(sp.transpose(u))}'))\n",
    "    dp.display(dp.Math(\n",
    "        f'H_{i + 1} = I_{len(ai)} - 2 u_{i + 1} u_{i + 1}^T = I_{len(ai)} - 2 \\\\cdot {sp.latex(u @ sp.transpose(u))} = {sp.latex(h)}'))\n",
    "\n",
    "    return h\n",
    "\n",
    "\n",
    "def expand_matrix(mat: sp.Matrix, n: int):\n",
    "    offset = n - mat.rows\n",
    "\n",
    "    res = sp.eye(n)\n",
    "    res[offset:, offset:] = mat\n",
    "    return res\n",
    "\n",
    "\n",
    "def qr_decompose(a: sp.Matrix, precision: int = -1):\n",
    "    n = a.rows\n",
    "\n",
    "    r = a.copy()\n",
    "    q = sp.eye(n)\n",
    "\n",
    "    for i in range(n - 1):\n",
    "        dp.display(dp.Markdown(f'Iteration {i + 1}'))\n",
    "\n",
    "        hi = gen_householder_matrix(r[i:, i:], i, precision)\n",
    "        qi = expand_matrix(hi, n)\n",
    "\n",
    "        r = qi @ r\n",
    "        q = q @ sp.transpose(qi)\n",
    "\n",
    "        if precision == -1:\n",
    "            r = sp.simplify(r)\n",
    "            q = sp.simplify(q)\n",
    "        else:\n",
    "            # fill lower column with zeros to fix floating point errors\n",
    "            r = sp.Matrix(r)\n",
    "            r[(i + 1):, i] = sp.zeros(n - i - 1, 1)\n",
    "\n",
    "        dp.display(dp.Math(f'Q_{i + 1} = {sp.latex(qi)} \\\\rightarrow Q = Q \\\\cdot Q_{i + 1}^T = {sp.latex(q)}, \\; R = Q_{i + 1} \\\\cdot R = {sp.latex(r)}'))\n",
    "\n",
    "    return q, r\n",
    "\n",
    "\n",
    "def qr(a: sp.Matrix, b: sp.Matrix, precision: int = -1):\n",
    "    dp.display(dp.Math(f'A = {sp.latex(a)}, \\quad b = {sp.latex(b)}'))\n",
    "\n",
    "    dp.display(dp.Markdown('## QR-Zerlegung'))\n",
    "    q, r = qr_decompose(a, precision)\n",
    "\n",
    "    dp.display(dp.Markdown('Resultat'))\n",
    "    dp.display(dp.Math(f'Q = {sp.latex(q)}, \\\\quad R = {sp.latex(r)}'))\n",
    "\n",
    "    y = sp.transpose(q) @ b\n",
    "\n",
    "    dp.display(dp.Markdown('## Rückwärtseinsetzen'))\n",
    "    x = backwards_substitution(r, y)\n",
    "    dp.display(dp.Math('x = ' + sp.latex(x)))\n",
    "    return sp.simplify(x)"
   ],
   "metadata": {
    "collapsed": false
   }
  },
  {
   "cell_type": "markdown",
   "source": [],
   "metadata": {
    "collapsed": false
   }
  },
  {
   "cell_type": "code",
   "execution_count": 2,
   "outputs": [
    {
     "data": {
      "text/plain": "<IPython.core.display.Math object>",
      "text/latex": "$\\displaystyle A = \\left[\\begin{matrix}1 & 2 & -1\\\\4 & -2 & 6\\\\3 & 1 & 0\\end{matrix}\\right], \\quad b = \\left[\\begin{matrix}9\\\\-4\\\\9\\end{matrix}\\right]$"
     },
     "metadata": {},
     "output_type": "display_data"
    },
    {
     "data": {
      "text/plain": "<IPython.core.display.Markdown object>",
      "text/markdown": "## QR-Zerlegung"
     },
     "metadata": {},
     "output_type": "display_data"
    },
    {
     "data": {
      "text/plain": "<IPython.core.display.Markdown object>",
      "text/markdown": "Iteration 1"
     },
     "metadata": {},
     "output_type": "display_data"
    },
    {
     "data": {
      "text/plain": "<IPython.core.display.Math object>",
      "text/latex": "$\\displaystyle A_1 = \\left[\\begin{matrix}1 & 2 & -1\\\\4 & -2 & 6\\\\3 & 1 & 0\\end{matrix}\\right] \\; \\rightarrow \\; a_i = \\left[\\begin{matrix}1\\\\4\\\\3\\end{matrix}\\right]$"
     },
     "metadata": {},
     "output_type": "display_data"
    },
    {
     "data": {
      "text/plain": "<IPython.core.display.Math object>",
      "text/latex": "$\\displaystyle v_1 = \\left[\\begin{matrix}1 + \\sqrt{26}\\\\4\\\\3\\end{matrix}\\right], \\; |v_i| = \\sqrt{25 + \\left(1 + \\sqrt{26}\\right)^{2}} = \\sqrt{2 \\sqrt{26} + 52}$"
     },
     "metadata": {},
     "output_type": "display_data"
    },
    {
     "data": {
      "text/plain": "<IPython.core.display.Math object>",
      "text/latex": "$\\displaystyle u_1 = \\left[\\begin{matrix}\\frac{\\sqrt{2} \\cdot \\left(1 + \\sqrt{26}\\right)}{2 \\sqrt{\\sqrt{26} + 26}}\\\\\\frac{2 \\sqrt{2}}{\\sqrt{\\sqrt{26} + 26}}\\\\\\frac{3 \\sqrt{2}}{2 \\sqrt{\\sqrt{26} + 26}}\\end{matrix}\\right] \\; \\rightarrow \\; u_1^T = \\left[\\begin{matrix}\\frac{\\sqrt{2} \\cdot \\left(1 + \\sqrt{26}\\right)}{2 \\sqrt{\\sqrt{26} + 26}} & \\frac{2 \\sqrt{2}}{\\sqrt{\\sqrt{26} + 26}} & \\frac{3 \\sqrt{2}}{2 \\sqrt{\\sqrt{26} + 26}}\\end{matrix}\\right]$"
     },
     "metadata": {},
     "output_type": "display_data"
    },
    {
     "data": {
      "text/plain": "<IPython.core.display.Math object>",
      "text/latex": "$\\displaystyle H_1 = I_3 - 2 u_1 u_1^T = I_3 - 2 \\cdot \\left[\\begin{matrix}\\frac{\\left(1 + \\sqrt{26}\\right)^{2}}{2 \\left(\\sqrt{26} + 26\\right)} & \\frac{2 \\cdot \\left(1 + \\sqrt{26}\\right)}{\\sqrt{26} + 26} & \\frac{3 \\cdot \\left(1 + \\sqrt{26}\\right)}{2 \\left(\\sqrt{26} + 26\\right)}\\\\\\frac{2 \\cdot \\left(1 + \\sqrt{26}\\right)}{\\sqrt{26} + 26} & \\frac{8}{\\sqrt{26} + 26} & \\frac{6}{\\sqrt{26} + 26}\\\\\\frac{3 \\cdot \\left(1 + \\sqrt{26}\\right)}{2 \\left(\\sqrt{26} + 26\\right)} & \\frac{6}{\\sqrt{26} + 26} & \\frac{9}{2 \\left(\\sqrt{26} + 26\\right)}\\end{matrix}\\right] = \\left[\\begin{matrix}- \\frac{\\sqrt{26}}{26} & - \\frac{2 \\sqrt{26}}{13} & - \\frac{3 \\sqrt{26}}{26}\\\\- \\frac{2 \\sqrt{26}}{13} & \\frac{8 \\sqrt{26}}{325} + \\frac{9}{25} & - \\frac{12}{25} + \\frac{6 \\sqrt{26}}{325}\\\\- \\frac{3 \\sqrt{26}}{26} & - \\frac{12}{25} + \\frac{6 \\sqrt{26}}{325} & \\frac{9 \\sqrt{26}}{650} + \\frac{16}{25}\\end{matrix}\\right]$"
     },
     "metadata": {},
     "output_type": "display_data"
    },
    {
     "data": {
      "text/plain": "<IPython.core.display.Math object>",
      "text/latex": "$\\displaystyle Q_1 = \\left[\\begin{matrix}- \\frac{\\sqrt{26}}{26} & - \\frac{2 \\sqrt{26}}{13} & - \\frac{3 \\sqrt{26}}{26}\\\\- \\frac{2 \\sqrt{26}}{13} & \\frac{8 \\sqrt{26}}{325} + \\frac{9}{25} & - \\frac{12}{25} + \\frac{6 \\sqrt{26}}{325}\\\\- \\frac{3 \\sqrt{26}}{26} & - \\frac{12}{25} + \\frac{6 \\sqrt{26}}{325} & \\frac{9 \\sqrt{26}}{650} + \\frac{16}{25}\\end{matrix}\\right] \\rightarrow Q = Q \\cdot Q_1^T = \\left[\\begin{matrix}- \\frac{\\sqrt{26}}{26} & - \\frac{2 \\sqrt{26}}{13} & - \\frac{3 \\sqrt{26}}{26}\\\\- \\frac{2 \\sqrt{26}}{13} & \\frac{8 \\sqrt{26}}{325} + \\frac{9}{25} & - \\frac{12}{25} + \\frac{6 \\sqrt{26}}{325}\\\\- \\frac{3 \\sqrt{26}}{26} & - \\frac{12}{25} + \\frac{6 \\sqrt{26}}{325} & \\frac{9 \\sqrt{26}}{650} + \\frac{16}{25}\\end{matrix}\\right], \\; R = Q_1 \\cdot R = \\left[\\begin{matrix}- \\sqrt{26} & \\frac{3 \\sqrt{26}}{26} & - \\frac{23 \\sqrt{26}}{26}\\\\0 & - \\frac{22 \\sqrt{26}}{65} - \\frac{6}{5} & \\frac{98 \\sqrt{26}}{325} + \\frac{54}{25}\\\\0 & \\frac{8}{5} - \\frac{33 \\sqrt{26}}{130} & - \\frac{72}{25} + \\frac{147 \\sqrt{26}}{650}\\end{matrix}\\right]$"
     },
     "metadata": {},
     "output_type": "display_data"
    },
    {
     "data": {
      "text/plain": "<IPython.core.display.Markdown object>",
      "text/markdown": "Iteration 2"
     },
     "metadata": {},
     "output_type": "display_data"
    },
    {
     "data": {
      "text/plain": "<IPython.core.display.Math object>",
      "text/latex": "$\\displaystyle A_2 = \\left[\\begin{matrix}- \\frac{22 \\sqrt{26}}{65} - \\frac{6}{5} & \\frac{98 \\sqrt{26}}{325} + \\frac{54}{25}\\\\\\frac{8}{5} - \\frac{33 \\sqrt{26}}{130} & - \\frac{72}{25} + \\frac{147 \\sqrt{26}}{650}\\end{matrix}\\right] \\; \\rightarrow \\; a_i = \\left[\\begin{matrix}- \\frac{22 \\sqrt{26}}{65} - \\frac{6}{5}\\\\\\frac{8}{5} - \\frac{33 \\sqrt{26}}{130}\\end{matrix}\\right]$"
     },
     "metadata": {},
     "output_type": "display_data"
    },
    {
     "data": {
      "text/plain": "<IPython.core.display.Math object>",
      "text/latex": "$\\displaystyle v_2 = \\left[\\begin{matrix}- \\sqrt{\\left(\\frac{8}{5} - \\frac{33 \\sqrt{26}}{130}\\right)^{2} + \\left(- \\frac{22 \\sqrt{26}}{65} - \\frac{6}{5}\\right)^{2}} - \\frac{22 \\sqrt{26}}{65} - \\frac{6}{5}\\\\\\frac{8}{5} - \\frac{33 \\sqrt{26}}{130}\\end{matrix}\\right], \\; |v_i| = \\sqrt{\\left(\\frac{8}{5} - \\frac{33 \\sqrt{26}}{130}\\right)^{2} + \\left(- \\sqrt{\\left(\\frac{8}{5} - \\frac{33 \\sqrt{26}}{130}\\right)^{2} + \\left(- \\frac{22 \\sqrt{26}}{65} - \\frac{6}{5}\\right)^{2}} - \\frac{22 \\sqrt{26}}{65} - \\frac{6}{5}\\right)^{2}} = \\frac{\\sqrt{234 \\sqrt{26} + 4641}}{13}$"
     },
     "metadata": {},
     "output_type": "display_data"
    },
    {
     "data": {
      "text/plain": "<IPython.core.display.Math object>",
      "text/latex": "$\\displaystyle u_2 = \\left[\\begin{matrix}\\frac{\\sqrt{39} \\left(- 119 \\sqrt{26} - 156\\right)}{390 \\sqrt{6 \\sqrt{26} + 119}}\\\\\\frac{\\sqrt{39} \\cdot \\left(208 - 33 \\sqrt{26}\\right)}{390 \\sqrt{6 \\sqrt{26} + 119}}\\end{matrix}\\right] \\; \\rightarrow \\; u_2^T = \\left[\\begin{matrix}\\frac{\\sqrt{39} \\left(- 119 \\sqrt{26} - 156\\right)}{390 \\sqrt{6 \\sqrt{26} + 119}} & \\frac{\\sqrt{39} \\cdot \\left(208 - 33 \\sqrt{26}\\right)}{390 \\sqrt{6 \\sqrt{26} + 119}}\\end{matrix}\\right]$"
     },
     "metadata": {},
     "output_type": "display_data"
    },
    {
     "data": {
      "text/plain": "<IPython.core.display.Math object>",
      "text/latex": "$\\displaystyle H_2 = I_2 - 2 u_2 u_2^T = I_2 - 2 \\cdot \\left[\\begin{matrix}\\frac{\\left(- 119 \\sqrt{26} - 156\\right)^{2}}{3900 \\cdot \\left(6 \\sqrt{26} + 119\\right)} & \\frac{\\left(208 - 33 \\sqrt{26}\\right) \\left(- 119 \\sqrt{26} - 156\\right)}{3900 \\cdot \\left(6 \\sqrt{26} + 119\\right)}\\\\\\frac{\\left(208 - 33 \\sqrt{26}\\right) \\left(- 119 \\sqrt{26} - 156\\right)}{3900 \\cdot \\left(6 \\sqrt{26} + 119\\right)} & \\frac{\\left(208 - 33 \\sqrt{26}\\right)^{2}}{3900 \\cdot \\left(6 \\sqrt{26} + 119\\right)}\\end{matrix}\\right] = \\left[\\begin{matrix}- \\frac{44}{75} - \\frac{2 \\sqrt{26}}{25} & - \\frac{11}{25} + \\frac{8 \\sqrt{26}}{75}\\\\- \\frac{11}{25} + \\frac{8 \\sqrt{26}}{75} & \\frac{2 \\sqrt{26}}{25} + \\frac{44}{75}\\end{matrix}\\right]$"
     },
     "metadata": {},
     "output_type": "display_data"
    },
    {
     "data": {
      "text/plain": "<IPython.core.display.Math object>",
      "text/latex": "$\\displaystyle Q_2 = \\left[\\begin{matrix}1 & 0 & 0\\\\0 & - \\frac{44}{75} - \\frac{2 \\sqrt{26}}{25} & - \\frac{11}{25} + \\frac{8 \\sqrt{26}}{75}\\\\0 & - \\frac{11}{25} + \\frac{8 \\sqrt{26}}{75} & \\frac{2 \\sqrt{26}}{25} + \\frac{44}{75}\\end{matrix}\\right] \\rightarrow Q = Q \\cdot Q_2^T = \\left[\\begin{matrix}- \\frac{\\sqrt{26}}{26} & \\frac{11 \\sqrt{26}}{78} & - \\frac{2}{3}\\\\- \\frac{2 \\sqrt{26}}{13} & - \\frac{4 \\sqrt{26}}{39} & - \\frac{1}{3}\\\\- \\frac{3 \\sqrt{26}}{26} & \\frac{7 \\sqrt{26}}{78} & \\frac{2}{3}\\end{matrix}\\right], \\; R = Q_2 \\cdot R = \\left[\\begin{matrix}- \\sqrt{26} & \\frac{3 \\sqrt{26}}{26} & - \\frac{23 \\sqrt{26}}{26}\\\\0 & \\frac{15 \\sqrt{26}}{26} & - \\frac{59 \\sqrt{26}}{78}\\\\0 & 0 & - \\frac{4}{3}\\end{matrix}\\right]$"
     },
     "metadata": {},
     "output_type": "display_data"
    },
    {
     "data": {
      "text/plain": "<IPython.core.display.Markdown object>",
      "text/markdown": "Resultat"
     },
     "metadata": {},
     "output_type": "display_data"
    },
    {
     "data": {
      "text/plain": "<IPython.core.display.Math object>",
      "text/latex": "$\\displaystyle Q = \\left[\\begin{matrix}- \\frac{\\sqrt{26}}{26} & \\frac{11 \\sqrt{26}}{78} & - \\frac{2}{3}\\\\- \\frac{2 \\sqrt{26}}{13} & - \\frac{4 \\sqrt{26}}{39} & - \\frac{1}{3}\\\\- \\frac{3 \\sqrt{26}}{26} & \\frac{7 \\sqrt{26}}{78} & \\frac{2}{3}\\end{matrix}\\right], \\quad R = \\left[\\begin{matrix}- \\sqrt{26} & \\frac{3 \\sqrt{26}}{26} & - \\frac{23 \\sqrt{26}}{26}\\\\0 & \\frac{15 \\sqrt{26}}{26} & - \\frac{59 \\sqrt{26}}{78}\\\\0 & 0 & - \\frac{4}{3}\\end{matrix}\\right]$"
     },
     "metadata": {},
     "output_type": "display_data"
    },
    {
     "data": {
      "text/plain": "<IPython.core.display.Markdown object>",
      "text/markdown": "## Rückwärtseinsetzen"
     },
     "metadata": {},
     "output_type": "display_data"
    },
    {
     "data": {
      "text/plain": "<IPython.core.display.Math object>",
      "text/latex": "$\\displaystyle x_{2} = \\frac{\\frac{4}{3}}{- \\frac{4}{3}} = -1$"
     },
     "metadata": {},
     "output_type": "display_data"
    },
    {
     "data": {
      "text/plain": "<IPython.core.display.Math object>",
      "text/latex": "$\\displaystyle x_{1} = \\frac{\\frac{97 \\sqrt{26}}{39} - (\\frac{59 \\sqrt{26}}{78})}{\\frac{15 \\sqrt{26}}{26}} = \\frac{\\frac{45 \\sqrt{26}}{26}}{\\frac{15 \\sqrt{26}}{26}} = 3$"
     },
     "metadata": {},
     "output_type": "display_data"
    },
    {
     "data": {
      "text/plain": "<IPython.core.display.Math object>",
      "text/latex": "$\\displaystyle x_{0} = \\frac{- \\frac{10 \\sqrt{26}}{13} - (\\frac{16 \\sqrt{26}}{13})}{- \\sqrt{26}} = \\frac{- 2 \\sqrt{26}}{- \\sqrt{26}} = 2$"
     },
     "metadata": {},
     "output_type": "display_data"
    },
    {
     "data": {
      "text/plain": "<IPython.core.display.Math object>",
      "text/latex": "$\\displaystyle x = \\left[\\begin{matrix}2\\\\3\\\\-1\\end{matrix}\\right]$"
     },
     "metadata": {},
     "output_type": "display_data"
    }
   ],
   "source": [
    "a = sp.Matrix([\n",
    "    [1, 2, -1],\n",
    "    [4, -2, 6],\n",
    "    [3, 1, 0],\n",
    "])\n",
    "\n",
    "b = sp.Matrix([9, -4, 9])\n",
    "\n",
    "_ = qr(a, b)"
   ],
   "metadata": {
    "collapsed": false
   }
  }
 ],
 "metadata": {
  "kernelspec": {
   "display_name": "Python 3",
   "language": "python",
   "name": "python3"
  },
  "language_info": {
   "codemirror_mode": {
    "name": "ipython",
    "version": 2
   },
   "file_extension": ".py",
   "mimetype": "text/x-python",
   "name": "python",
   "nbconvert_exporter": "python",
   "pygments_lexer": "ipython2",
   "version": "2.7.6"
  }
 },
 "nbformat": 4,
 "nbformat_minor": 0
}
